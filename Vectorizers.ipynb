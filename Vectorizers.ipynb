{
  "nbformat": 4,
  "nbformat_minor": 0,
  "metadata": {
    "colab": {
      "name": "Vectorizers.ipynb",
      "provenance": [],
      "toc_visible": true,
      "authorship_tag": "ABX9TyMnjrQx8hDGS1bmPYpDE8Ie"
    },
    "kernelspec": {
      "name": "python3",
      "display_name": "Python 3"
    }
  },
  "cells": [
    {
      "cell_type": "markdown",
      "metadata": {
        "id": "MFarR9fIWckd",
        "colab_type": "text"
      },
      "source": [
        "# Basics of CountVectorizer and TfidfVectorizer"
      ]
    },
    {
      "cell_type": "code",
      "metadata": {
        "id": "fT2Gjz-5WvT4",
        "colab_type": "code",
        "colab": {}
      },
      "source": [
        "from sklearn.feature_extraction.text import CountVectorizer\n",
        "from sklearn.feature_extraction.text import TfidfVectorizer"
      ],
      "execution_count": 0,
      "outputs": []
    },
    {
      "cell_type": "markdown",
      "metadata": {
        "id": "myLeY7mTWojL",
        "colab_type": "text"
      },
      "source": [
        "## 1) CountVectorizer\n",
        "\n",
        "For reading: https://www.kaggle.com/adamschroeder/countvectorizer-tfidfvectorizer-predict-comments"
      ]
    },
    {
      "cell_type": "markdown",
      "metadata": {
        "id": "M2m-DCgTlaQQ",
        "colab_type": "text"
      },
      "source": [
        "<b>Theory</b>\n",
        "\n",
        "- CountVectorizer(input='content', encoding='utf-8', decode_error='strict', strip_accents=None, lowercase=True, preprocessor=None, tokenizer=None, stop_words=None, token_pattern='(?u)\\\\b\\\\w\\\\w+\\\\b', ngram_range=(1, 1), analyzer='word', max_df=1.0, min_df=1, max_features=None, vocabulary=None, binary=False, dtype=<class 'numpy.int64'>)\n",
        "- Convert a collection of text documents to a matrix of token counts\n",
        "\n",
        "- This implementation produces a sparse representation of the counts using scipy.sparse.csr_matrix.\n",
        "\n",
        "- If you do not provide an a-priori dictionary and you do not use an analyzer that does some kind of feature selection then the number of features will be equal to the vocabulary size found by analyzing the data.\n",
        "\n",
        "\n",
        "Parameters\n",
        "input : string {'filename', 'file', 'content'}\n",
        "\n",
        "    If 'filename', the sequence passed as an argument to fit is  \n",
        "    expected to be a list of filenames that need reading to fetch  \n",
        "    the raw content to analyze.  \n",
        "\n",
        "    If 'file', the sequence items must have a 'read' method (file-like  \n",
        "    object) that is called to fetch the bytes in memory.  \n",
        "\n",
        "    Otherwise the input is expected to be a sequence of items that  \n",
        "    can be of type string or byte.  \n",
        "encoding : string, 'utf-8' by default.\n",
        "\n",
        "    If bytes or files are given to analyze, this encoding is used to  \n",
        "    decode.  \n",
        "decode_error : {'strict', 'ignore', 'replace'}\n",
        "\n",
        "    Instruction on what to do if a byte sequence is given to analyze that  \n",
        "    contains characters not of the given `encoding`. By default, it is  \n",
        "    'strict', meaning that a UnicodeDecodeError will be raised. Other  \n",
        "    values are 'ignore' and 'replace'.  \n",
        "strip_accents : {'ascii', 'unicode', None}\n",
        "\n",
        "    Remove accents and perform other character normalization  \n",
        "    during the preprocessing step.  \n",
        "    'ascii' is a fast method that only works on characters that have  \n",
        "    an direct ASCII mapping.  \n",
        "    'unicode' is a slightly slower method that works on any characters.  \n",
        "    None (default) does nothing.  \n",
        "\n",
        "    Both 'ascii' and 'unicode' use NFKD normalization from  \n",
        "    :func:`unicodedata.normalize`.  \n",
        "lowercase : boolean, True by default\n",
        "\n",
        "    Convert all characters to lowercase before tokenizing.  \n",
        "preprocessor : callable or None (default)\n",
        "\n",
        "    Override the preprocessing (string transformation) stage while  \n",
        "    preserving the tokenizing and n-grams generation steps.  \n",
        "    Only applies if `analyzer is not callable`.  \n",
        "tokenizer : callable or None (default)\n",
        "\n",
        "    Override the string tokenization step while preserving the  \n",
        "    preprocessing and n-grams generation steps.  \n",
        "    Only applies if `analyzer == 'word'`.  \n",
        "stop_words : string {'english'}, list, or None (default)\n",
        "\n",
        "    If 'english', a built-in stop word list for English is used.  \n",
        "    There are several known issues with 'english' and you should  \n",
        "    consider an alternative (see :ref:`stop_words`).  \n",
        "\n",
        "    If a list, that list is assumed to contain stop words, all of which  \n",
        "    will be removed from the resulting tokens.  \n",
        "    Only applies if `analyzer == 'word'`.  \n",
        "\n",
        "    If None, no stop words will be used. max_df can be set to a value  \n",
        "    in the range [0.7, 1.0) to automatically detect and filter stop  \n",
        "    words based on intra corpus document frequency of terms.  \n",
        "token_pattern : string\n",
        "\n",
        "    Regular expression denoting what constitutes a \"token\", only used  \n",
        "    if `analyzer == 'word'`. The default regexp select tokens of 2  \n",
        "    or more alphanumeric characters (punctuation is completely ignored  \n",
        "    and always treated as a token separator).  \n",
        "ngram_range : tuple (min_n, max_n), default=(1, 1)\n",
        "\n",
        "    The lower and upper boundary of the range of n-values for different  \n",
        "    word n-grams or char n-grams to be extracted. All values of n such  \n",
        "    such that min_n  = n  = max_n will be used. For example an  \n",
        "    `ngram_range` of `(1, 1)` means only unigrams, `(1, 2)` means  \n",
        "    unigrams and bigrams, and `(2, 2)` means only bigrams.  \n",
        "    Only applies if `analyzer is not callable`.  \n",
        "analyzer : string, {'word', 'char', 'char_wb'} or callable\n",
        "\n",
        "    Whether the feature should be made of word n-gram or character  \n",
        "    n-grams.  \n",
        "    Option 'char_wb' creates character n-grams only from text inside  \n",
        "    word boundaries; n-grams at the edges of words are padded with space.  \n",
        "\n",
        "    If a callable is passed it is used to extract the sequence of features  \n",
        "    out of the raw, unprocessed input.  \n",
        "\n",
        "\n",
        "    Since v0.21, if `input` is `filename` or `file`, the data is  \n",
        "    first read from the file and then passed to the given callable  \n",
        "    analyzer.  \n",
        "max_df : float in range [0.0, 1.0] or int, default=1.0\n",
        "\n",
        "    When building the vocabulary ignore terms that have a document  \n",
        "    frequency strictly higher than the given threshold (corpus-specific  \n",
        "    stop words).  \n",
        "    If float, the parameter represents a proportion of documents, integer  \n",
        "    absolute counts.  \n",
        "    This parameter is ignored if vocabulary is not None.  \n",
        "min_df : float in range [0.0, 1.0] or int, default=1\n",
        "\n",
        "    When building the vocabulary ignore terms that have a document  \n",
        "    frequency strictly lower than the given threshold. This value is also  \n",
        "    called cut-off in the literature.  \n",
        "    If float, the parameter represents a proportion of documents, integer  \n",
        "    absolute counts.  \n",
        "    This parameter is ignored if vocabulary is not None.  \n",
        "max_features : int or None, default=None\n",
        "\n",
        "    If not None, build a vocabulary that only consider the top  \n",
        "    max_features ordered by term frequency across the corpus.  \n",
        "\n",
        "    This parameter is ignored if vocabulary is not None.  \n",
        "vocabulary : Mapping or iterable, optional\n",
        "\n",
        "    Either a Mapping (e.g., a dict) where keys are terms and values are  \n",
        "    indices in the feature matrix, or an iterable over terms. If not  \n",
        "    given, a vocabulary is determined from the input documents. Indices  \n",
        "    in the mapping should not be repeated and should not have any gap  \n",
        "    between 0 and the largest index.  \n",
        "binary : boolean, default=False\n",
        "\n",
        "    If True, all non zero counts are set to 1. This is useful for discrete  \n",
        "    probabilistic models that model binary events rather than integer  \n",
        "    counts.  \n",
        "dtype : type, optional\n",
        "\n",
        "    Type of the matrix returned by fit_transform() or transform().  \n",
        "Attributes\n",
        "vocabulary_ : dict\n",
        "\n",
        "    A mapping of terms to feature indices.  \n",
        "fixed_vocabulary_: boolean\n",
        "\n",
        "    True if a fixed vocabulary of term to indices mapping  \n",
        "    is provided by the user  \n",
        "stop_words_ : set\n",
        "\n",
        "    Terms that were ignored because they either:  \n",
        "\n",
        "      - occurred in too many documents (`max_df`)  \n",
        "      - occurred in too few documents (`min_df`)  \n",
        "      - were cut off by feature selection (`max_features`).  \n",
        "\n",
        "    This is only available if no vocabulary was given.  \n",
        "\n",
        "* Examples\n",
        "      from sklearn.feature_extraction.text import CountVectorizer \n",
        "      corpus = [ ... 'This is the first document.', ... 'This document is the second document.', ... 'And this is the third one.', ... 'Is this the first document?', ... ]\n",
        "\n",
        "       vectorizer = CountVectorizer() \n",
        "       X = vectorizer.fit_transform(corpus) \n",
        "\n",
        "       print(vectorizer.get_feature_names()) \n",
        "       ['and', 'document', 'first', 'is', 'one', 'second', 'the', 'third', 'this'] \n",
        "\n",
        "       print(X.toarray()) \n",
        "\n",
        "      [[0 1 1 1 0 0 1 0 1]\n",
        "      [0 2 0 1 0 1 1 0 1]  \n",
        "      [1 0 0 1 1 0 1 1 1]  \n",
        "      [0 1 1 1 0 0 1 0 1]]  \n",
        "\n",
        "      vectorizer2 = CountVectorizer(analyzer='word', ngram_range=(2, 2))\n",
        "       X2 = vectorizer2.fit_transform(corpus) \n",
        "\n",
        "       print(vectorizer2.get_feature_names()) \n",
        "       ['and this', 'document is', 'first document', 'is the', 'is this', 'second document', 'the first', 'the second', 'the third', 'third one','this document', 'this is', 'this the'] \n",
        "\n",
        "        print(X2.toarray())  \n",
        "\n",
        "        [[0 0 1 1 0 0 1 0 0 0 0 1 0]  \n",
        "        [0 1 0 1 0 1 0 1 0 0 1 0 0]  \n",
        "        [1 0 0 1 0 0 0 0 1 1 0 1 0]  \n",
        "        [0 0 1 0 1 0 1 0 0 0 0 0 1]]  \n",
        "\n",
        "\n",
        "Notes\n",
        "The stop_words_ attribute can get large and increase the model size when pickling. This attribute is provided only for introspection and can be safely removed using delattr or set to None before pickling.\n"
      ]
    },
    {
      "cell_type": "markdown",
      "metadata": {
        "id": "wheITnummtxw",
        "colab_type": "text"
      },
      "source": [
        "### 1.1) Examples : "
      ]
    },
    {
      "cell_type": "code",
      "metadata": {
        "id": "AY01iueYWWVT",
        "colab_type": "code",
        "colab": {}
      },
      "source": [
        "sam = [\"Hello there, my name is A\",\"Your name is B\",\"you have my notebook\",\"I have your pen\"]"
      ],
      "execution_count": 0,
      "outputs": []
    },
    {
      "cell_type": "code",
      "metadata": {
        "id": "NO6zabiEWyil",
        "colab_type": "code",
        "colab": {}
      },
      "source": [
        "cv1 = CountVectorizer()\n",
        "s = cv1.fit_transform(sam)"
      ],
      "execution_count": 0,
      "outputs": []
    },
    {
      "cell_type": "code",
      "metadata": {
        "id": "nR4HLt63W0uU",
        "colab_type": "code",
        "outputId": "c5601bf3-81f4-4ae3-a636-60f16eece452",
        "colab": {
          "base_uri": "https://localhost:8080/",
          "height": 187
        }
      },
      "source": [
        "cv1.get_feature_names()"
      ],
      "execution_count": 32,
      "outputs": [
        {
          "output_type": "execute_result",
          "data": {
            "text/plain": [
              "['have',\n",
              " 'hello',\n",
              " 'is',\n",
              " 'my',\n",
              " 'name',\n",
              " 'notebook',\n",
              " 'pen',\n",
              " 'there',\n",
              " 'you',\n",
              " 'your']"
            ]
          },
          "metadata": {
            "tags": []
          },
          "execution_count": 32
        }
      ]
    },
    {
      "cell_type": "code",
      "metadata": {
        "id": "IVEAldW1W2th",
        "colab_type": "code",
        "outputId": "bfa8f997-0ef2-49ce-821f-d010d8a8bd65",
        "colab": {
          "base_uri": "https://localhost:8080/",
          "height": 344
        }
      },
      "source": [
        "cv2 = CountVectorizer(min_df=0.6)\n",
        "s = cv2.fit_transform(sam)"
      ],
      "execution_count": 33,
      "outputs": [
        {
          "output_type": "error",
          "ename": "ValueError",
          "evalue": "ignored",
          "traceback": [
            "\u001b[0;31m---------------------------------------------------------------------------\u001b[0m",
            "\u001b[0;31mValueError\u001b[0m                                Traceback (most recent call last)",
            "\u001b[0;32m<ipython-input-33-23acaa9a8905>\u001b[0m in \u001b[0;36m<module>\u001b[0;34m()\u001b[0m\n\u001b[1;32m      1\u001b[0m \u001b[0mcv2\u001b[0m \u001b[0;34m=\u001b[0m \u001b[0mCountVectorizer\u001b[0m\u001b[0;34m(\u001b[0m\u001b[0mmin_df\u001b[0m\u001b[0;34m=\u001b[0m\u001b[0;36m0.6\u001b[0m\u001b[0;34m)\u001b[0m\u001b[0;34m\u001b[0m\u001b[0;34m\u001b[0m\u001b[0m\n\u001b[0;32m----> 2\u001b[0;31m \u001b[0ms\u001b[0m \u001b[0;34m=\u001b[0m \u001b[0mcv2\u001b[0m\u001b[0;34m.\u001b[0m\u001b[0mfit_transform\u001b[0m\u001b[0;34m(\u001b[0m\u001b[0msam\u001b[0m\u001b[0;34m)\u001b[0m\u001b[0;34m\u001b[0m\u001b[0;34m\u001b[0m\u001b[0m\n\u001b[0m",
            "\u001b[0;32m/usr/local/lib/python3.6/dist-packages/sklearn/feature_extraction/text.py\u001b[0m in \u001b[0;36mfit_transform\u001b[0;34m(self, raw_documents, y)\u001b[0m\n\u001b[1;32m   1239\u001b[0m                                                        \u001b[0mmax_doc_count\u001b[0m\u001b[0;34m,\u001b[0m\u001b[0;34m\u001b[0m\u001b[0;34m\u001b[0m\u001b[0m\n\u001b[1;32m   1240\u001b[0m                                                        \u001b[0mmin_doc_count\u001b[0m\u001b[0;34m,\u001b[0m\u001b[0;34m\u001b[0m\u001b[0;34m\u001b[0m\u001b[0m\n\u001b[0;32m-> 1241\u001b[0;31m                                                        max_features)\n\u001b[0m\u001b[1;32m   1242\u001b[0m \u001b[0;34m\u001b[0m\u001b[0m\n\u001b[1;32m   1243\u001b[0m             \u001b[0mself\u001b[0m\u001b[0;34m.\u001b[0m\u001b[0mvocabulary_\u001b[0m \u001b[0;34m=\u001b[0m \u001b[0mvocabulary\u001b[0m\u001b[0;34m\u001b[0m\u001b[0;34m\u001b[0m\u001b[0m\n",
            "\u001b[0;32m/usr/local/lib/python3.6/dist-packages/sklearn/feature_extraction/text.py\u001b[0m in \u001b[0;36m_limit_features\u001b[0;34m(self, X, vocabulary, high, low, limit)\u001b[0m\n\u001b[1;32m   1107\u001b[0m         \u001b[0mkept_indices\u001b[0m \u001b[0;34m=\u001b[0m \u001b[0mnp\u001b[0m\u001b[0;34m.\u001b[0m\u001b[0mwhere\u001b[0m\u001b[0;34m(\u001b[0m\u001b[0mmask\u001b[0m\u001b[0;34m)\u001b[0m\u001b[0;34m[\u001b[0m\u001b[0;36m0\u001b[0m\u001b[0;34m]\u001b[0m\u001b[0;34m\u001b[0m\u001b[0;34m\u001b[0m\u001b[0m\n\u001b[1;32m   1108\u001b[0m         \u001b[0;32mif\u001b[0m \u001b[0mlen\u001b[0m\u001b[0;34m(\u001b[0m\u001b[0mkept_indices\u001b[0m\u001b[0;34m)\u001b[0m \u001b[0;34m==\u001b[0m \u001b[0;36m0\u001b[0m\u001b[0;34m:\u001b[0m\u001b[0;34m\u001b[0m\u001b[0;34m\u001b[0m\u001b[0m\n\u001b[0;32m-> 1109\u001b[0;31m             raise ValueError(\"After pruning, no terms remain. Try a lower\"\n\u001b[0m\u001b[1;32m   1110\u001b[0m                              \" min_df or a higher max_df.\")\n\u001b[1;32m   1111\u001b[0m         \u001b[0;32mreturn\u001b[0m \u001b[0mX\u001b[0m\u001b[0;34m[\u001b[0m\u001b[0;34m:\u001b[0m\u001b[0;34m,\u001b[0m \u001b[0mkept_indices\u001b[0m\u001b[0;34m]\u001b[0m\u001b[0;34m,\u001b[0m \u001b[0mremoved_terms\u001b[0m\u001b[0;34m\u001b[0m\u001b[0;34m\u001b[0m\u001b[0m\n",
            "\u001b[0;31mValueError\u001b[0m: After pruning, no terms remain. Try a lower min_df or a higher max_df."
          ]
        }
      ]
    },
    {
      "cell_type": "code",
      "metadata": {
        "id": "TrQ5Ffv3kqQG",
        "colab_type": "code",
        "colab": {}
      },
      "source": [
        "cv2 = CountVectorizer(min_df=0.5)\n",
        "s = cv2.fit_transform(sam)"
      ],
      "execution_count": 0,
      "outputs": []
    },
    {
      "cell_type": "code",
      "metadata": {
        "id": "ivYYRlmNky4d",
        "colab_type": "code",
        "outputId": "e7194c0d-3bc2-47e8-c966-9dd1415b9930",
        "colab": {
          "base_uri": "https://localhost:8080/",
          "height": 34
        }
      },
      "source": [
        "cv2.get_feature_names()"
      ],
      "execution_count": 35,
      "outputs": [
        {
          "output_type": "execute_result",
          "data": {
            "text/plain": [
              "['have', 'is', 'my', 'name', 'your']"
            ]
          },
          "metadata": {
            "tags": []
          },
          "execution_count": 35
        }
      ]
    },
    {
      "cell_type": "code",
      "metadata": {
        "id": "UuWNCFNTk3Rv",
        "colab_type": "code",
        "colab": {}
      },
      "source": [
        "cv2 = CountVectorizer(stop_words=['is']) # stop words contains a list of words to be ignored.\n",
        "s = cv2.fit_transform(sam)"
      ],
      "execution_count": 0,
      "outputs": []
    },
    {
      "cell_type": "code",
      "metadata": {
        "id": "_ojhc6-JnnRa",
        "colab_type": "code",
        "outputId": "f127fba7-0967-4074-fd60-f4b258df1591",
        "colab": {
          "base_uri": "https://localhost:8080/",
          "height": 34
        }
      },
      "source": [
        "cv2.get_feature_names()"
      ],
      "execution_count": 37,
      "outputs": [
        {
          "output_type": "execute_result",
          "data": {
            "text/plain": [
              "['have', 'hello', 'my', 'name', 'notebook', 'pen', 'there', 'you', 'your']"
            ]
          },
          "metadata": {
            "tags": []
          },
          "execution_count": 37
        }
      ]
    },
    {
      "cell_type": "code",
      "metadata": {
        "id": "HHD1f_uooVyK",
        "colab_type": "code",
        "outputId": "6d33064e-f512-48bb-bd0a-ab5d84a60eba",
        "colab": {
          "base_uri": "https://localhost:8080/",
          "height": 85
        }
      },
      "source": [
        "sam"
      ],
      "execution_count": 38,
      "outputs": [
        {
          "output_type": "execute_result",
          "data": {
            "text/plain": [
              "['Hello there, my name is A',\n",
              " 'Your name is B',\n",
              " 'you have my notebook',\n",
              " 'I have your pen']"
            ]
          },
          "metadata": {
            "tags": []
          },
          "execution_count": 38
        }
      ]
    },
    {
      "cell_type": "code",
      "metadata": {
        "id": "BfkzWFs7nuAK",
        "colab_type": "code",
        "outputId": "3ab5741b-867d-4603-b268-7148ca48faab",
        "colab": {
          "base_uri": "https://localhost:8080/",
          "height": 85
        }
      },
      "source": [
        "s.toarray()"
      ],
      "execution_count": 39,
      "outputs": [
        {
          "output_type": "execute_result",
          "data": {
            "text/plain": [
              "array([[0, 1, 1, 1, 0, 0, 1, 0, 0],\n",
              "       [0, 0, 0, 1, 0, 0, 0, 0, 1],\n",
              "       [1, 0, 1, 0, 1, 0, 0, 1, 0],\n",
              "       [1, 0, 0, 0, 0, 1, 0, 0, 1]])"
            ]
          },
          "metadata": {
            "tags": []
          },
          "execution_count": 39
        }
      ]
    },
    {
      "cell_type": "code",
      "metadata": {
        "id": "DnrkKeiooUcO",
        "colab_type": "code",
        "colab": {}
      },
      "source": [
        ""
      ],
      "execution_count": 0,
      "outputs": []
    },
    {
      "cell_type": "markdown",
      "metadata": {
        "id": "2HqFSpGxpjYz",
        "colab_type": "text"
      },
      "source": [
        "## 2) TfidfVectorizer"
      ]
    },
    {
      "cell_type": "markdown",
      "metadata": {
        "id": "iK1Ult_Yp1ho",
        "colab_type": "text"
      },
      "source": [
        "<b>Theory</b>\n",
        "\n",
        "\n",
        "- TfidfVectorizer(input='content', encoding='utf-8', decode_error='strict', strip_accents=None, lowercase=True, preprocessor=None, tokenizer=None, analyzer='word', stop_words=None, token_pattern='(?u)\\\\b\\\\w\\\\w+\\\\b', ngram_range=(1, 1), max_df=1.0, min_df=1, max_features=None, vocabulary=None, binary=False, dtype=<class 'numpy.float64'>, norm='l2', use_idf=True, smooth_idf=True, sublinear_tf=False)\n",
        "- Convert a collection of raw documents to a matrix of TF-IDF features.\n",
        "\n",
        "- Equivalent to :class:CountVectorizer followed by :class:TfidfTransformer.\n",
        "\n",
        "Parameters\n",
        "input : str {'filename', 'file', 'content'}\n",
        "\n",
        "    If 'filename', the sequence passed as an argument to fit is  \n",
        "    expected to be a list of filenames that need reading to fetch  \n",
        "    the raw content to analyze.  \n",
        "\n",
        "    If 'file', the sequence items must have a 'read' method (file-like  \n",
        "    object) that is called to fetch the bytes in memory.  \n",
        "\n",
        "    Otherwise the input is expected to be a sequence of items that  \n",
        "    can be of type string or byte.  \n",
        "encoding : str, default='utf-8'\n",
        "\n",
        "    If bytes or files are given to analyze, this encoding is used to  \n",
        "    decode.  \n",
        "decode_error : {'strict', 'ignore', 'replace'} (default='strict')\n",
        "\n",
        "    Instruction on what to do if a byte sequence is given to analyze that  \n",
        "    contains characters not of the given `encoding`. By default, it is  \n",
        "    'strict', meaning that a UnicodeDecodeError will be raised. Other  \n",
        "    values are 'ignore' and 'replace'.  \n",
        "strip_accents : {'ascii', 'unicode', None} (default=None)\n",
        "\n",
        "    Remove accents and perform other character normalization  \n",
        "    during the preprocessing step.  \n",
        "    'ascii' is a fast method that only works on characters that have  \n",
        "    an direct ASCII mapping.  \n",
        "    'unicode' is a slightly slower method that works on any characters.  \n",
        "    None (default) does nothing.  \n",
        "\n",
        "    Both 'ascii' and 'unicode' use NFKD normalization from  \n",
        "    :func:`unicodedata.normalize`.  \n",
        "lowercase : bool (default=True)\n",
        "\n",
        "    Convert all characters to lowercase before tokenizing.  \n",
        "preprocessor : callable or None (default=None)\n",
        "\n",
        "    Override the preprocessing (string transformation) stage while  \n",
        "    preserving the tokenizing and n-grams generation steps.  \n",
        "    Only applies if `analyzer is not callable`.  \n",
        "tokenizer : callable or None (default=None)\n",
        "\n",
        "    Override the string tokenization step while preserving the  \n",
        "    preprocessing and n-grams generation steps.  \n",
        "    Only applies if `analyzer == 'word'`.  \n",
        "analyzer : str, {'word', 'char', 'char_wb'} or callable\n",
        "\n",
        "    Whether the feature should be made of word or character n-grams.  \n",
        "    Option 'char_wb' creates character n-grams only from text inside  \n",
        "    word boundaries; n-grams at the edges of words are padded with space.  \n",
        "\n",
        "    If a callable is passed it is used to extract the sequence of features  \n",
        "    out of the raw, unprocessed input.  \n",
        "\n",
        "\n",
        "    Since v0.21, if `input` is `filename` or `file`, the data is  \n",
        "    first read from the file and then passed to the given callable  \n",
        "    analyzer.  \n",
        "stop_words : str {'english'}, list, or None (default=None)\n",
        "\n",
        "    If a string, it is passed to _check_stop_list and the appropriate stop  \n",
        "    list is returned. 'english' is currently the only supported string  \n",
        "    value.  \n",
        "    There are several known issues with 'english' and you should  \n",
        "    consider an alternative (see :ref:`stop_words`).  \n",
        "\n",
        "    If a list, that list is assumed to contain stop words, all of which  \n",
        "    will be removed from the resulting tokens.  \n",
        "    Only applies if `analyzer == 'word'`.  \n",
        "\n",
        "    If None, no stop words will be used. max_df can be set to a value  \n",
        "    in the range [0.7, 1.0) to automatically detect and filter stop  \n",
        "    words based on intra corpus document frequency of terms.  \n",
        "token_pattern : str\n",
        "\n",
        "    Regular expression denoting what constitutes a \"token\", only used  \n",
        "    if `analyzer == 'word'`. The default regexp selects tokens of 2  \n",
        "    or more alphanumeric characters (punctuation is completely ignored  \n",
        "    and always treated as a token separator).  \n",
        "ngram_range : tuple (min_n, max_n), default=(1, 1)\n",
        "\n",
        "    The lower and upper boundary of the range of n-values for different  \n",
        "    n-grams to be extracted. All values of n such that min_n  = n  = max_n  \n",
        "    will be used. For example an `ngram_range` of `(1, 1)` means only  \n",
        "    unigrams, `(1, 2)` means unigrams and bigrams, and `(2, 2)` means  \n",
        "    only bigrams.  \n",
        "    Only applies if `analyzer is not callable`.  \n",
        "max_df : float in range [0.0, 1.0] or int (default=1.0)\n",
        "\n",
        "    When building the vocabulary ignore terms that have a document  \n",
        "    frequency strictly higher than the given threshold (corpus-specific  \n",
        "    stop words).  \n",
        "    If float, the parameter represents a proportion of documents, integer  \n",
        "    absolute counts.  \n",
        "    This parameter is ignored if vocabulary is not None.  \n",
        "min_df : float in range [0.0, 1.0] or int (default=1)\n",
        "\n",
        "    When building the vocabulary ignore terms that have a document  \n",
        "    frequency strictly lower than the given threshold. This value is also  \n",
        "    called cut-off in the literature.  \n",
        "    If float, the parameter represents a proportion of documents, integer  \n",
        "    absolute counts.  \n",
        "    This parameter is ignored if vocabulary is not None.  \n",
        "max_features : int or None (default=None)\n",
        "\n",
        "    If not None, build a vocabulary that only consider the top  \n",
        "    max_features ordered by term frequency across the corpus.  \n",
        "\n",
        "    This parameter is ignored if vocabulary is not None.  \n",
        "vocabulary : Mapping or iterable, optional (default=None)\n",
        "\n",
        "    Either a Mapping (e.g., a dict) where keys are terms and values are  \n",
        "    indices in the feature matrix, or an iterable over terms. If not  \n",
        "    given, a vocabulary is determined from the input documents.  \n",
        "binary : bool (default=False)\n",
        "\n",
        "    If True, all non-zero term counts are set to 1. This does not mean  \n",
        "    outputs will have only 0/1 values, only that the tf term in tf-idf  \n",
        "    is binary. (Set idf and normalization to False to get 0/1 outputs).  \n",
        "dtype : type, optional (default=float64)\n",
        "\n",
        "    Type of the matrix returned by fit_transform() or transform().  \n",
        "norm : 'l1', 'l2' or None, optional (default='l2')\n",
        "\n",
        "    Each output row will have unit norm, either:  \n",
        "    * 'l2': Sum of squares of vector elements is 1. The cosine  \n",
        "    similarity between two vectors is their dot product when l2 norm has  \n",
        "    been applied.  \n",
        "    * 'l1': Sum of absolute values of vector elements is 1.  \n",
        "    See :func:`preprocessing.normalize`.  \n",
        "use_idf : bool (default=True)\n",
        "\n",
        "    Enable inverse-document-frequency reweighting.  \n",
        "smooth_idf : bool (default=True)\n",
        "\n",
        "    Smooth idf weights by adding one to document frequencies, as if an  \n",
        "    extra document was seen containing every term in the collection  \n",
        "    exactly once. Prevents zero divisions.  \n",
        "sublinear_tf : bool (default=False)\n",
        "\n",
        "    Apply sublinear tf scaling, i.e. replace tf with 1 + log(tf).  \n",
        "Attributes\n",
        "vocabulary_ : dict\n",
        "\n",
        "    A mapping of terms to feature indices.  \n",
        "fixed_vocabulary_: bool\n",
        "\n",
        "    True if a fixed vocabulary of term to indices mapping  \n",
        "    is provided by the user  \n",
        "idf_ : array, shape (n_features)\n",
        "\n",
        "    The inverse document frequency (IDF) vector; only defined  \n",
        "    if `use_idf` is True.  \n",
        "stop_words_ : set\n",
        "\n",
        "    Terms that were ignored because they either:  \n",
        "\n",
        "      - occurred in too many documents (`max_df`)  \n",
        "      - occurred in too few documents (`min_df`)  \n",
        "      - were cut off by feature selection (`max_features`).  \n",
        "\n",
        "    This is only available if no vocabulary was given.  \n",
        "\n",
        "\n",
        "- TfidfTransformer : Performs the TF-IDF transformation from a provided matrix of counts.  \n",
        "\n",
        "- Notes:\n",
        "\n",
        "The stop_words_ attribute can get large and increase the model size when pickling. This attribute is provided only for introspection and can be safely removed using delattr or set to None before pickling.\n",
        "\n",
        "Examples\n",
        "\n",
        "        from sklearn.feature_extraction.text import TfidfVectorizer \n",
        "\n",
        "        corpus = [ ... 'This is the first document.', ... 'This document is the second document.', ... 'And this is the third one.', ... 'Is this the first document?', ... ]\n",
        "\n",
        "        vectorizer = TfidfVectorizer() \n",
        "        X = vectorizer.fit_transform(corpus)\n",
        "\n",
        "        print(vectorizer.get_feature_names()) \n",
        "\n",
        "        ['and', 'document', 'first', 'is', 'one', 'second', 'the', 'third', 'this'] \n",
        "        \n",
        "        print(X.shape) (4, 9)"
      ]
    },
    {
      "cell_type": "markdown",
      "metadata": {
        "id": "cW6XoVCJqrUh",
        "colab_type": "text"
      },
      "source": [
        "### 2.1) Examples:"
      ]
    },
    {
      "cell_type": "markdown",
      "metadata": {
        "id": "K_SAHr1irgrv",
        "colab_type": "text"
      },
      "source": [
        "formula used: tf-idf(d, t) = tf(t) * idf(d, t)\n",
        "\n",
        "            * tf(t)= the term frequency is the number of times the term appears in the document\n",
        "            * idf(d, t) = the document frequency is the number of documents 'd' that contain term 't'"
      ]
    },
    {
      "cell_type": "code",
      "metadata": {
        "id": "tD3Kcck8pprb",
        "colab_type": "code",
        "colab": {}
      },
      "source": [
        "sam = [\"Hello there, my name is A\",\"Your name is B\",\"you have my notebook\",\"I have your pen\"]"
      ],
      "execution_count": 0,
      "outputs": []
    },
    {
      "cell_type": "code",
      "metadata": {
        "id": "DzlEKyqBptfg",
        "colab_type": "code",
        "colab": {}
      },
      "source": [
        "tf1 = TfidfVectorizer()\n",
        "c = tf1.fit_transform(sam)"
      ],
      "execution_count": 0,
      "outputs": []
    },
    {
      "cell_type": "code",
      "metadata": {
        "id": "PdQg477xrKst",
        "colab_type": "code",
        "outputId": "a5426174-bea9-4b77-b1a0-bcd2df94b2bb",
        "colab": {
          "base_uri": "https://localhost:8080/",
          "height": 187
        }
      },
      "source": [
        "tf1.get_feature_names()"
      ],
      "execution_count": 42,
      "outputs": [
        {
          "output_type": "execute_result",
          "data": {
            "text/plain": [
              "['have',\n",
              " 'hello',\n",
              " 'is',\n",
              " 'my',\n",
              " 'name',\n",
              " 'notebook',\n",
              " 'pen',\n",
              " 'there',\n",
              " 'you',\n",
              " 'your']"
            ]
          },
          "metadata": {
            "tags": []
          },
          "execution_count": 42
        }
      ]
    },
    {
      "cell_type": "code",
      "metadata": {
        "id": "kmK-Ri7nrMuL",
        "colab_type": "code",
        "outputId": "e4324a11-cd45-491d-9f73-a15d41c638d0",
        "colab": {
          "base_uri": "https://localhost:8080/",
          "height": 153
        }
      },
      "source": [
        "c.toarray()"
      ],
      "execution_count": 43,
      "outputs": [
        {
          "output_type": "execute_result",
          "data": {
            "text/plain": [
              "array([[0.        , 0.50867187, 0.40104275, 0.40104275, 0.40104275,\n",
              "        0.        , 0.        , 0.50867187, 0.        , 0.        ],\n",
              "       [0.        , 0.        , 0.57735027, 0.        , 0.57735027,\n",
              "        0.        , 0.        , 0.        , 0.        , 0.57735027],\n",
              "       [0.43779123, 0.        , 0.        , 0.43779123, 0.        ,\n",
              "        0.55528266, 0.        , 0.        , 0.55528266, 0.        ],\n",
              "       [0.52640543, 0.        , 0.        , 0.        , 0.        ,\n",
              "        0.        , 0.66767854, 0.        , 0.        , 0.52640543]])"
            ]
          },
          "metadata": {
            "tags": []
          },
          "execution_count": 43
        }
      ]
    },
    {
      "cell_type": "markdown",
      "metadata": {
        "id": "Ykt0iowmrTh7",
        "colab_type": "text"
      },
      "source": [
        "How it gives values to words:\n",
        "\n",
        "Basically, \n",
        "\n",
        "          The more times a token appears in a document, the more weight it will have. \n",
        "          However, the more documents the token appears in, it is 'penalized' and the weight is diminished. "
      ]
    },
    {
      "cell_type": "markdown",
      "metadata": {
        "id": "MzzG5TEswPaZ",
        "colab_type": "text"
      },
      "source": [
        "Removing all stop words "
      ]
    },
    {
      "cell_type": "code",
      "metadata": {
        "id": "QsFAgFL6wI6A",
        "colab_type": "code",
        "colab": {}
      },
      "source": [
        "sam = [\"Hello there, my name is A\",\"Your name is B\",\"you have my notebook\",\"I have your pen\"]"
      ],
      "execution_count": 0,
      "outputs": []
    },
    {
      "cell_type": "code",
      "metadata": {
        "id": "pRsEO7qprPIt",
        "colab_type": "code",
        "colab": {}
      },
      "source": [
        "tf2 = TfidfVectorizer(stop_words='english')  # this will remove all stop words from sam\n",
        "c = tf2.fit_transform(sam)"
      ],
      "execution_count": 0,
      "outputs": []
    },
    {
      "cell_type": "code",
      "metadata": {
        "id": "bxnA4NnPwKQX",
        "colab_type": "code",
        "colab": {
          "base_uri": "https://localhost:8080/",
          "height": 34
        },
        "outputId": "4e62b3c9-ebb0-4434-fc41-d44255566b27"
      },
      "source": [
        "tf2.get_feature_names()"
      ],
      "execution_count": 46,
      "outputs": [
        {
          "output_type": "execute_result",
          "data": {
            "text/plain": [
              "['hello', 'notebook', 'pen']"
            ]
          },
          "metadata": {
            "tags": []
          },
          "execution_count": 46
        }
      ]
    },
    {
      "cell_type": "code",
      "metadata": {
        "id": "1KDSop3-wNkR",
        "colab_type": "code",
        "colab": {}
      },
      "source": [
        ""
      ],
      "execution_count": 0,
      "outputs": []
    }
  ]
}