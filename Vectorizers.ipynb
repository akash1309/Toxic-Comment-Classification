{
  "nbformat": 4,
  "nbformat_minor": 0,
  "metadata": {
    "colab": {
      "name": "Vectorizers.ipynb",
      "provenance": [],
      "authorship_tag": "ABX9TyNTH37pPpRcWLEl7A9yCY8x"
    },
    "kernelspec": {
      "name": "python3",
      "display_name": "Python 3"
    }
  },
  "cells": [
    {
      "cell_type": "markdown",
      "metadata": {
        "id": "MFarR9fIWckd",
        "colab_type": "text"
      },
      "source": [
        "# Basics of CountVectorizer and TfidfVectorizer"
      ]
    },
    {
      "cell_type": "code",
      "metadata": {
        "id": "fT2Gjz-5WvT4",
        "colab_type": "code",
        "colab": {}
      },
      "source": [
        "from sklearn.feature_extraction.text import CountVectorizer\n",
        "from sklearn.feature_extraction.text import TfidfVectorizer"
      ],
      "execution_count": 0,
      "outputs": []
    },
    {
      "cell_type": "markdown",
      "metadata": {
        "id": "myLeY7mTWojL",
        "colab_type": "text"
      },
      "source": [
        "## 1) CountVectorizer"
      ]
    },
    {
      "cell_type": "code",
      "metadata": {
        "id": "AY01iueYWWVT",
        "colab_type": "code",
        "colab": {}
      },
      "source": [
        "sam = [\"Hello there, my name is A\",\"Your name is B\",\"you have my notebook\",\"I have your pen\"]"
      ],
      "execution_count": 0,
      "outputs": []
    },
    {
      "cell_type": "code",
      "metadata": {
        "id": "NO6zabiEWyil",
        "colab_type": "code",
        "colab": {}
      },
      "source": [
        "cv = CountVectorizer()\n",
        "s = cv.fit_transform(sam)"
      ],
      "execution_count": 0,
      "outputs": []
    },
    {
      "cell_type": "code",
      "metadata": {
        "id": "nR4HLt63W0uU",
        "colab_type": "code",
        "colab": {
          "base_uri": "https://localhost:8080/",
          "height": 187
        },
        "outputId": "8212710d-dbb0-4646-f8af-58ced14475af"
      },
      "source": [
        "cv.get_feature_names()"
      ],
      "execution_count": 4,
      "outputs": [
        {
          "output_type": "execute_result",
          "data": {
            "text/plain": [
              "['have',\n",
              " 'hello',\n",
              " 'is',\n",
              " 'my',\n",
              " 'name',\n",
              " 'notebook',\n",
              " 'pen',\n",
              " 'there',\n",
              " 'you',\n",
              " 'your']"
            ]
          },
          "metadata": {
            "tags": []
          },
          "execution_count": 4
        }
      ]
    },
    {
      "cell_type": "code",
      "metadata": {
        "id": "IVEAldW1W2th",
        "colab_type": "code",
        "colab": {}
      },
      "source": [
        ""
      ],
      "execution_count": 0,
      "outputs": []
    }
  ]
}