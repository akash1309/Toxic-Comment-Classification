{
  "nbformat": 4,
  "nbformat_minor": 0,
  "metadata": {
    "colab": {
      "name": "Vectorizers.ipynb",
      "provenance": [],
      "authorship_tag": "ABX9TyOmGBiIjlH1klPuAQsWiCiT"
    },
    "kernelspec": {
      "name": "python3",
      "display_name": "Python 3"
    }
  },
  "cells": [
    {
      "cell_type": "markdown",
      "metadata": {
        "id": "MFarR9fIWckd",
        "colab_type": "text"
      },
      "source": [
        "# Basics of CountVectorizer and TfidfVectorizer"
      ]
    },
    {
      "cell_type": "code",
      "metadata": {
        "id": "fT2Gjz-5WvT4",
        "colab_type": "code",
        "colab": {}
      },
      "source": [
        "from sklearn.feature_extraction.text import CountVectorizer\n",
        "from sklearn.feature_extraction.text import TfidfVectorizer"
      ],
      "execution_count": 0,
      "outputs": []
    },
    {
      "cell_type": "markdown",
      "metadata": {
        "id": "myLeY7mTWojL",
        "colab_type": "text"
      },
      "source": [
        "## 1) CountVectorizer\n",
        "\n",
        "For reading: https://www.kaggle.com/adamschroeder/countvectorizer-tfidfvectorizer-predict-comments"
      ]
    },
    {
      "cell_type": "markdown",
      "metadata": {
        "id": "M2m-DCgTlaQQ",
        "colab_type": "text"
      },
      "source": [
        "<b>Theory</b>\n",
        "\n",
        "- CountVectorizer(input='content', encoding='utf-8', decode_error='strict', strip_accents=None, lowercase=True, preprocessor=None, tokenizer=None, stop_words=None, token_pattern='(?u)\\\\b\\\\w\\\\w+\\\\b', ngram_range=(1, 1), analyzer='word', max_df=1.0, min_df=1, max_features=None, vocabulary=None, binary=False, dtype=<class 'numpy.int64'>)\n",
        "- Convert a collection of text documents to a matrix of token counts\n",
        "\n",
        "- This implementation produces a sparse representation of the counts using scipy.sparse.csr_matrix.\n",
        "\n",
        "- If you do not provide an a-priori dictionary and you do not use an analyzer that does some kind of feature selection then the number of features will be equal to the vocabulary size found by analyzing the data.\n",
        "\n",
        "\n",
        "Parameters\n",
        "input : string {'filename', 'file', 'content'}\n",
        "\n",
        "    If 'filename', the sequence passed as an argument to fit is  \n",
        "    expected to be a list of filenames that need reading to fetch  \n",
        "    the raw content to analyze.  \n",
        "\n",
        "    If 'file', the sequence items must have a 'read' method (file-like  \n",
        "    object) that is called to fetch the bytes in memory.  \n",
        "\n",
        "    Otherwise the input is expected to be a sequence of items that  \n",
        "    can be of type string or byte.  \n",
        "encoding : string, 'utf-8' by default.\n",
        "\n",
        "    If bytes or files are given to analyze, this encoding is used to  \n",
        "    decode.  \n",
        "decode_error : {'strict', 'ignore', 'replace'}\n",
        "\n",
        "    Instruction on what to do if a byte sequence is given to analyze that  \n",
        "    contains characters not of the given `encoding`. By default, it is  \n",
        "    'strict', meaning that a UnicodeDecodeError will be raised. Other  \n",
        "    values are 'ignore' and 'replace'.  \n",
        "strip_accents : {'ascii', 'unicode', None}\n",
        "\n",
        "    Remove accents and perform other character normalization  \n",
        "    during the preprocessing step.  \n",
        "    'ascii' is a fast method that only works on characters that have  \n",
        "    an direct ASCII mapping.  \n",
        "    'unicode' is a slightly slower method that works on any characters.  \n",
        "    None (default) does nothing.  \n",
        "\n",
        "    Both 'ascii' and 'unicode' use NFKD normalization from  \n",
        "    :func:`unicodedata.normalize`.  \n",
        "lowercase : boolean, True by default\n",
        "\n",
        "    Convert all characters to lowercase before tokenizing.  \n",
        "preprocessor : callable or None (default)\n",
        "\n",
        "    Override the preprocessing (string transformation) stage while  \n",
        "    preserving the tokenizing and n-grams generation steps.  \n",
        "    Only applies if `analyzer is not callable`.  \n",
        "tokenizer : callable or None (default)\n",
        "\n",
        "    Override the string tokenization step while preserving the  \n",
        "    preprocessing and n-grams generation steps.  \n",
        "    Only applies if `analyzer == 'word'`.  \n",
        "stop_words : string {'english'}, list, or None (default)\n",
        "\n",
        "    If 'english', a built-in stop word list for English is used.  \n",
        "    There are several known issues with 'english' and you should  \n",
        "    consider an alternative (see :ref:`stop_words`).  \n",
        "\n",
        "    If a list, that list is assumed to contain stop words, all of which  \n",
        "    will be removed from the resulting tokens.  \n",
        "    Only applies if `analyzer == 'word'`.  \n",
        "\n",
        "    If None, no stop words will be used. max_df can be set to a value  \n",
        "    in the range [0.7, 1.0) to automatically detect and filter stop  \n",
        "    words based on intra corpus document frequency of terms.  \n",
        "token_pattern : string\n",
        "\n",
        "    Regular expression denoting what constitutes a \"token\", only used  \n",
        "    if `analyzer == 'word'`. The default regexp select tokens of 2  \n",
        "    or more alphanumeric characters (punctuation is completely ignored  \n",
        "    and always treated as a token separator).  \n",
        "ngram_range : tuple (min_n, max_n), default=(1, 1)\n",
        "\n",
        "    The lower and upper boundary of the range of n-values for different  \n",
        "    word n-grams or char n-grams to be extracted. All values of n such  \n",
        "    such that min_n  = n  = max_n will be used. For example an  \n",
        "    `ngram_range` of `(1, 1)` means only unigrams, `(1, 2)` means  \n",
        "    unigrams and bigrams, and `(2, 2)` means only bigrams.  \n",
        "    Only applies if `analyzer is not callable`.  \n",
        "analyzer : string, {'word', 'char', 'char_wb'} or callable\n",
        "\n",
        "    Whether the feature should be made of word n-gram or character  \n",
        "    n-grams.  \n",
        "    Option 'char_wb' creates character n-grams only from text inside  \n",
        "    word boundaries; n-grams at the edges of words are padded with space.  \n",
        "\n",
        "    If a callable is passed it is used to extract the sequence of features  \n",
        "    out of the raw, unprocessed input.  \n",
        "\n",
        "\n",
        "    Since v0.21, if `input` is `filename` or `file`, the data is  \n",
        "    first read from the file and then passed to the given callable  \n",
        "    analyzer.  \n",
        "max_df : float in range [0.0, 1.0] or int, default=1.0\n",
        "\n",
        "    When building the vocabulary ignore terms that have a document  \n",
        "    frequency strictly higher than the given threshold (corpus-specific  \n",
        "    stop words).  \n",
        "    If float, the parameter represents a proportion of documents, integer  \n",
        "    absolute counts.  \n",
        "    This parameter is ignored if vocabulary is not None.  \n",
        "min_df : float in range [0.0, 1.0] or int, default=1\n",
        "\n",
        "    When building the vocabulary ignore terms that have a document  \n",
        "    frequency strictly lower than the given threshold. This value is also  \n",
        "    called cut-off in the literature.  \n",
        "    If float, the parameter represents a proportion of documents, integer  \n",
        "    absolute counts.  \n",
        "    This parameter is ignored if vocabulary is not None.  \n",
        "max_features : int or None, default=None\n",
        "\n",
        "    If not None, build a vocabulary that only consider the top  \n",
        "    max_features ordered by term frequency across the corpus.  \n",
        "\n",
        "    This parameter is ignored if vocabulary is not None.  \n",
        "vocabulary : Mapping or iterable, optional\n",
        "\n",
        "    Either a Mapping (e.g., a dict) where keys are terms and values are  \n",
        "    indices in the feature matrix, or an iterable over terms. If not  \n",
        "    given, a vocabulary is determined from the input documents. Indices  \n",
        "    in the mapping should not be repeated and should not have any gap  \n",
        "    between 0 and the largest index.  \n",
        "binary : boolean, default=False\n",
        "\n",
        "    If True, all non zero counts are set to 1. This is useful for discrete  \n",
        "    probabilistic models that model binary events rather than integer  \n",
        "    counts.  \n",
        "dtype : type, optional\n",
        "\n",
        "    Type of the matrix returned by fit_transform() or transform().  \n",
        "Attributes\n",
        "vocabulary_ : dict\n",
        "\n",
        "    A mapping of terms to feature indices.  \n",
        "fixed_vocabulary_: boolean\n",
        "\n",
        "    True if a fixed vocabulary of term to indices mapping  \n",
        "    is provided by the user  \n",
        "stop_words_ : set\n",
        "\n",
        "    Terms that were ignored because they either:  \n",
        "\n",
        "      - occurred in too many documents (`max_df`)  \n",
        "      - occurred in too few documents (`min_df`)  \n",
        "      - were cut off by feature selection (`max_features`).  \n",
        "\n",
        "    This is only available if no vocabulary was given.  \n",
        "\n",
        "* Examples\n",
        "      from sklearn.feature_extraction.text import CountVectorizer \n",
        "      corpus = [ ... 'This is the first document.', ... 'This document is the second document.', ... 'And this is the third one.', ... 'Is this the first document?', ... ]\n",
        "\n",
        "       vectorizer = CountVectorizer() \n",
        "       X = vectorizer.fit_transform(corpus) \n",
        "\n",
        "       print(vectorizer.get_feature_names()) \n",
        "       ['and', 'document', 'first', 'is', 'one', 'second', 'the', 'third', 'this'] \n",
        "\n",
        "       print(X.toarray()) \n",
        "\n",
        "      [[0 1 1 1 0 0 1 0 1]\n",
        "      [0 2 0 1 0 1 1 0 1]  \n",
        "      [1 0 0 1 1 0 1 1 1]  \n",
        "      [0 1 1 1 0 0 1 0 1]]  \n",
        "\n",
        "      vectorizer2 = CountVectorizer(analyzer='word', ngram_range=(2, 2))\n",
        "       X2 = vectorizer2.fit_transform(corpus) \n",
        "\n",
        "       print(vectorizer2.get_feature_names()) \n",
        "       ['and this', 'document is', 'first document', 'is the', 'is this', 'second document', 'the first', 'the second', 'the third', 'third one','this document', 'this is', 'this the'] \n",
        "\n",
        "        print(X2.toarray())  \n",
        "\n",
        "        [[0 0 1 1 0 0 1 0 0 0 0 1 0]  \n",
        "        [0 1 0 1 0 1 0 1 0 0 1 0 0]  \n",
        "        [1 0 0 1 0 0 0 0 1 1 0 1 0]  \n",
        "        [0 0 1 0 1 0 1 0 0 0 0 0 1]]  \n",
        "\n",
        "\n",
        "Notes\n",
        "The stop_words_ attribute can get large and increase the model size when pickling. This attribute is provided only for introspection and can be safely removed using delattr or set to None before pickling.\n"
      ]
    },
    {
      "cell_type": "markdown",
      "metadata": {
        "id": "wheITnummtxw",
        "colab_type": "text"
      },
      "source": [
        "### 1.1) Examples : "
      ]
    },
    {
      "cell_type": "code",
      "metadata": {
        "id": "AY01iueYWWVT",
        "colab_type": "code",
        "colab": {}
      },
      "source": [
        "sam = [\"Hello there, my name is A\",\"Your name is B\",\"you have my notebook\",\"I have your pen\"]"
      ],
      "execution_count": 0,
      "outputs": []
    },
    {
      "cell_type": "code",
      "metadata": {
        "id": "NO6zabiEWyil",
        "colab_type": "code",
        "colab": {}
      },
      "source": [
        "cv1 = CountVectorizer()\n",
        "s = cv1.fit_transform(sam)"
      ],
      "execution_count": 0,
      "outputs": []
    },
    {
      "cell_type": "code",
      "metadata": {
        "id": "nR4HLt63W0uU",
        "colab_type": "code",
        "colab": {
          "base_uri": "https://localhost:8080/",
          "height": 187
        },
        "outputId": "61ad1d8e-fec3-4d30-f7c4-7793e94768a5"
      },
      "source": [
        "cv1.get_feature_names()"
      ],
      "execution_count": 10,
      "outputs": [
        {
          "output_type": "execute_result",
          "data": {
            "text/plain": [
              "['have',\n",
              " 'hello',\n",
              " 'is',\n",
              " 'my',\n",
              " 'name',\n",
              " 'notebook',\n",
              " 'pen',\n",
              " 'there',\n",
              " 'you',\n",
              " 'your']"
            ]
          },
          "metadata": {
            "tags": []
          },
          "execution_count": 10
        }
      ]
    },
    {
      "cell_type": "code",
      "metadata": {
        "id": "IVEAldW1W2th",
        "colab_type": "code",
        "colab": {
          "base_uri": "https://localhost:8080/",
          "height": 344
        },
        "outputId": "7d5895cf-5521-40db-d7f8-e4cf442aaf79"
      },
      "source": [
        "cv2 = CountVectorizer(min_df=0.6)\n",
        "s = cv2.fit_transform(sam)"
      ],
      "execution_count": 11,
      "outputs": [
        {
          "output_type": "error",
          "ename": "ValueError",
          "evalue": "ignored",
          "traceback": [
            "\u001b[0;31m---------------------------------------------------------------------------\u001b[0m",
            "\u001b[0;31mValueError\u001b[0m                                Traceback (most recent call last)",
            "\u001b[0;32m<ipython-input-11-23acaa9a8905>\u001b[0m in \u001b[0;36m<module>\u001b[0;34m()\u001b[0m\n\u001b[1;32m      1\u001b[0m \u001b[0mcv2\u001b[0m \u001b[0;34m=\u001b[0m \u001b[0mCountVectorizer\u001b[0m\u001b[0;34m(\u001b[0m\u001b[0mmin_df\u001b[0m\u001b[0;34m=\u001b[0m\u001b[0;36m0.6\u001b[0m\u001b[0;34m)\u001b[0m\u001b[0;34m\u001b[0m\u001b[0;34m\u001b[0m\u001b[0m\n\u001b[0;32m----> 2\u001b[0;31m \u001b[0ms\u001b[0m \u001b[0;34m=\u001b[0m \u001b[0mcv2\u001b[0m\u001b[0;34m.\u001b[0m\u001b[0mfit_transform\u001b[0m\u001b[0;34m(\u001b[0m\u001b[0msam\u001b[0m\u001b[0;34m)\u001b[0m\u001b[0;34m\u001b[0m\u001b[0;34m\u001b[0m\u001b[0m\n\u001b[0m",
            "\u001b[0;32m/usr/local/lib/python3.6/dist-packages/sklearn/feature_extraction/text.py\u001b[0m in \u001b[0;36mfit_transform\u001b[0;34m(self, raw_documents, y)\u001b[0m\n\u001b[1;32m   1239\u001b[0m                                                        \u001b[0mmax_doc_count\u001b[0m\u001b[0;34m,\u001b[0m\u001b[0;34m\u001b[0m\u001b[0;34m\u001b[0m\u001b[0m\n\u001b[1;32m   1240\u001b[0m                                                        \u001b[0mmin_doc_count\u001b[0m\u001b[0;34m,\u001b[0m\u001b[0;34m\u001b[0m\u001b[0;34m\u001b[0m\u001b[0m\n\u001b[0;32m-> 1241\u001b[0;31m                                                        max_features)\n\u001b[0m\u001b[1;32m   1242\u001b[0m \u001b[0;34m\u001b[0m\u001b[0m\n\u001b[1;32m   1243\u001b[0m             \u001b[0mself\u001b[0m\u001b[0;34m.\u001b[0m\u001b[0mvocabulary_\u001b[0m \u001b[0;34m=\u001b[0m \u001b[0mvocabulary\u001b[0m\u001b[0;34m\u001b[0m\u001b[0;34m\u001b[0m\u001b[0m\n",
            "\u001b[0;32m/usr/local/lib/python3.6/dist-packages/sklearn/feature_extraction/text.py\u001b[0m in \u001b[0;36m_limit_features\u001b[0;34m(self, X, vocabulary, high, low, limit)\u001b[0m\n\u001b[1;32m   1107\u001b[0m         \u001b[0mkept_indices\u001b[0m \u001b[0;34m=\u001b[0m \u001b[0mnp\u001b[0m\u001b[0;34m.\u001b[0m\u001b[0mwhere\u001b[0m\u001b[0;34m(\u001b[0m\u001b[0mmask\u001b[0m\u001b[0;34m)\u001b[0m\u001b[0;34m[\u001b[0m\u001b[0;36m0\u001b[0m\u001b[0;34m]\u001b[0m\u001b[0;34m\u001b[0m\u001b[0;34m\u001b[0m\u001b[0m\n\u001b[1;32m   1108\u001b[0m         \u001b[0;32mif\u001b[0m \u001b[0mlen\u001b[0m\u001b[0;34m(\u001b[0m\u001b[0mkept_indices\u001b[0m\u001b[0;34m)\u001b[0m \u001b[0;34m==\u001b[0m \u001b[0;36m0\u001b[0m\u001b[0;34m:\u001b[0m\u001b[0;34m\u001b[0m\u001b[0;34m\u001b[0m\u001b[0m\n\u001b[0;32m-> 1109\u001b[0;31m             raise ValueError(\"After pruning, no terms remain. Try a lower\"\n\u001b[0m\u001b[1;32m   1110\u001b[0m                              \" min_df or a higher max_df.\")\n\u001b[1;32m   1111\u001b[0m         \u001b[0;32mreturn\u001b[0m \u001b[0mX\u001b[0m\u001b[0;34m[\u001b[0m\u001b[0;34m:\u001b[0m\u001b[0;34m,\u001b[0m \u001b[0mkept_indices\u001b[0m\u001b[0;34m]\u001b[0m\u001b[0;34m,\u001b[0m \u001b[0mremoved_terms\u001b[0m\u001b[0;34m\u001b[0m\u001b[0;34m\u001b[0m\u001b[0m\n",
            "\u001b[0;31mValueError\u001b[0m: After pruning, no terms remain. Try a lower min_df or a higher max_df."
          ]
        }
      ]
    },
    {
      "cell_type": "code",
      "metadata": {
        "id": "TrQ5Ffv3kqQG",
        "colab_type": "code",
        "colab": {}
      },
      "source": [
        "cv2 = CountVectorizer(min_df=0.5)\n",
        "s = cv2.fit_transform(sam)"
      ],
      "execution_count": 0,
      "outputs": []
    },
    {
      "cell_type": "code",
      "metadata": {
        "id": "ivYYRlmNky4d",
        "colab_type": "code",
        "colab": {
          "base_uri": "https://localhost:8080/",
          "height": 34
        },
        "outputId": "8c1d60f0-7bd2-4abf-b17d-a9d8387f85bb"
      },
      "source": [
        "cv2.get_feature_names()"
      ],
      "execution_count": 13,
      "outputs": [
        {
          "output_type": "execute_result",
          "data": {
            "text/plain": [
              "['have', 'is', 'my', 'name', 'your']"
            ]
          },
          "metadata": {
            "tags": []
          },
          "execution_count": 13
        }
      ]
    },
    {
      "cell_type": "code",
      "metadata": {
        "id": "UuWNCFNTk3Rv",
        "colab_type": "code",
        "colab": {}
      },
      "source": [
        "cv2 = CountVectorizer(stop_words=['is']) # stop words contains a list of words to be ignored.\n",
        "s = cv2.fit_transform(sam)"
      ],
      "execution_count": 0,
      "outputs": []
    },
    {
      "cell_type": "code",
      "metadata": {
        "id": "_ojhc6-JnnRa",
        "colab_type": "code",
        "colab": {
          "base_uri": "https://localhost:8080/",
          "height": 34
        },
        "outputId": "61c43d8c-d22a-492f-bab3-812e8e67ac37"
      },
      "source": [
        "cv2.get_feature_names()"
      ],
      "execution_count": 22,
      "outputs": [
        {
          "output_type": "execute_result",
          "data": {
            "text/plain": [
              "['have', 'hello', 'my', 'name', 'notebook', 'pen', 'there', 'you', 'your']"
            ]
          },
          "metadata": {
            "tags": []
          },
          "execution_count": 22
        }
      ]
    },
    {
      "cell_type": "code",
      "metadata": {
        "id": "HHD1f_uooVyK",
        "colab_type": "code",
        "colab": {
          "base_uri": "https://localhost:8080/",
          "height": 85
        },
        "outputId": "6bcf1659-408f-441a-f488-9ece9995cdb8"
      },
      "source": [
        "sam"
      ],
      "execution_count": 23,
      "outputs": [
        {
          "output_type": "execute_result",
          "data": {
            "text/plain": [
              "['Hello there, my name is A',\n",
              " 'Your name is B',\n",
              " 'you have my notebook',\n",
              " 'I have your pen']"
            ]
          },
          "metadata": {
            "tags": []
          },
          "execution_count": 23
        }
      ]
    },
    {
      "cell_type": "code",
      "metadata": {
        "id": "BfkzWFs7nuAK",
        "colab_type": "code",
        "colab": {
          "base_uri": "https://localhost:8080/",
          "height": 85
        },
        "outputId": "862df46f-2e3e-4c4b-c5f4-02a1e4d4920b"
      },
      "source": [
        "s.toarray()"
      ],
      "execution_count": 24,
      "outputs": [
        {
          "output_type": "execute_result",
          "data": {
            "text/plain": [
              "array([[0, 1, 1, 1, 0, 0, 1, 0, 0],\n",
              "       [0, 0, 0, 1, 0, 0, 0, 0, 1],\n",
              "       [1, 0, 1, 0, 1, 0, 0, 1, 0],\n",
              "       [1, 0, 0, 0, 0, 1, 0, 0, 1]])"
            ]
          },
          "metadata": {
            "tags": []
          },
          "execution_count": 24
        }
      ]
    },
    {
      "cell_type": "code",
      "metadata": {
        "id": "DnrkKeiooUcO",
        "colab_type": "code",
        "colab": {}
      },
      "source": [
        ""
      ],
      "execution_count": 0,
      "outputs": []
    }
  ]
}