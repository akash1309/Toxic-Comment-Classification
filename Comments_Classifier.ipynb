{
  "nbformat": 4,
  "nbformat_minor": 0,
  "metadata": {
    "colab": {
      "name": "Comments Classifier.ipynb",
      "provenance": [],
      "mount_file_id": "1p0CkyaM4iWD2jrfMo56AB-iLtC4UtzP3",
      "authorship_tag": "ABX9TyPsYT2Ou6ClAMJJx7hMEwUq"
    },
    "kernelspec": {
      "name": "python3",
      "display_name": "Python 3"
    }
  },
  "cells": [
    {
      "cell_type": "markdown",
      "metadata": {
        "id": "Oepgumb1JMmT",
        "colab_type": "text"
      },
      "source": [
        "# <Center>Toxic Comment Classification </center>\n",
        "\n",
        "For reading : https://www.analyticsvidhya.com/blog/2017/08/introduction-to-multi-label-classification/\n",
        "\n",
        "Contest link : https://www.kaggle.com/c/jigsaw-toxic-comment-classification-challenge"
      ]
    },
    {
      "cell_type": "markdown",
      "metadata": {
        "id": "jIC4wiMPJrmw",
        "colab_type": "text"
      },
      "source": [
        "## 1) Importing libraries"
      ]
    },
    {
      "cell_type": "code",
      "metadata": {
        "id": "U82T5cQ9I8df",
        "colab_type": "code",
        "outputId": "c65fdb9a-d0c6-4633-c980-3f1f0ef51e0e",
        "colab": {
          "base_uri": "https://localhost:8080/",
          "height": 71
        }
      },
      "source": [
        "import numpy as np\n",
        "import pandas as pd\n",
        "import matplotlib.pyplot as plt\n",
        "import torch\n",
        "import torch.nn as nn\n",
        "import torch.functional as F\n",
        "import scipy\n",
        "import nltk\n",
        "import re\n",
        "import seaborn as sns"
      ],
      "execution_count": 0,
      "outputs": [
        {
          "output_type": "stream",
          "text": [
            "/usr/local/lib/python3.6/dist-packages/statsmodels/tools/_testing.py:19: FutureWarning: pandas.util.testing is deprecated. Use the functions in the public API at pandas.testing instead.\n",
            "  import pandas.util.testing as tm\n"
          ],
          "name": "stderr"
        }
      ]
    },
    {
      "cell_type": "markdown",
      "metadata": {
        "id": "ZORYGglCJxBY",
        "colab_type": "text"
      },
      "source": [
        "## 2) Reading input files"
      ]
    },
    {
      "cell_type": "code",
      "metadata": {
        "id": "vm48Q0hBJmJR",
        "colab_type": "code",
        "colab": {}
      },
      "source": [
        "df_train = pd.read_csv('drive/My Drive/Pytorch_DataSet/Toxic Comment Classification/train.csv')\n",
        "df_test = pd.read_csv('drive/My Drive/Pytorch_DataSet/Toxic Comment Classification/test.csv')"
      ],
      "execution_count": 0,
      "outputs": []
    },
    {
      "cell_type": "code",
      "metadata": {
        "id": "N8kXe0qILsdA",
        "colab_type": "code",
        "outputId": "52006c2c-a131-4e39-9258-6293430396aa",
        "colab": {
          "base_uri": "https://localhost:8080/",
          "height": 376
        }
      },
      "source": [
        "df_train.head(10)"
      ],
      "execution_count": 0,
      "outputs": [
        {
          "output_type": "execute_result",
          "data": {
            "text/html": [
              "<div>\n",
              "<style scoped>\n",
              "    .dataframe tbody tr th:only-of-type {\n",
              "        vertical-align: middle;\n",
              "    }\n",
              "\n",
              "    .dataframe tbody tr th {\n",
              "        vertical-align: top;\n",
              "    }\n",
              "\n",
              "    .dataframe thead th {\n",
              "        text-align: right;\n",
              "    }\n",
              "</style>\n",
              "<table border=\"1\" class=\"dataframe\">\n",
              "  <thead>\n",
              "    <tr style=\"text-align: right;\">\n",
              "      <th></th>\n",
              "      <th>id</th>\n",
              "      <th>comment_text</th>\n",
              "      <th>toxic</th>\n",
              "      <th>severe_toxic</th>\n",
              "      <th>obscene</th>\n",
              "      <th>threat</th>\n",
              "      <th>insult</th>\n",
              "      <th>identity_hate</th>\n",
              "    </tr>\n",
              "  </thead>\n",
              "  <tbody>\n",
              "    <tr>\n",
              "      <th>0</th>\n",
              "      <td>0000997932d777bf</td>\n",
              "      <td>Explanation\\nWhy the edits made under my usern...</td>\n",
              "      <td>0</td>\n",
              "      <td>0</td>\n",
              "      <td>0</td>\n",
              "      <td>0</td>\n",
              "      <td>0</td>\n",
              "      <td>0</td>\n",
              "    </tr>\n",
              "    <tr>\n",
              "      <th>1</th>\n",
              "      <td>000103f0d9cfb60f</td>\n",
              "      <td>D'aww! He matches this background colour I'm s...</td>\n",
              "      <td>0</td>\n",
              "      <td>0</td>\n",
              "      <td>0</td>\n",
              "      <td>0</td>\n",
              "      <td>0</td>\n",
              "      <td>0</td>\n",
              "    </tr>\n",
              "    <tr>\n",
              "      <th>2</th>\n",
              "      <td>000113f07ec002fd</td>\n",
              "      <td>Hey man, I'm really not trying to edit war. It...</td>\n",
              "      <td>0</td>\n",
              "      <td>0</td>\n",
              "      <td>0</td>\n",
              "      <td>0</td>\n",
              "      <td>0</td>\n",
              "      <td>0</td>\n",
              "    </tr>\n",
              "    <tr>\n",
              "      <th>3</th>\n",
              "      <td>0001b41b1c6bb37e</td>\n",
              "      <td>\"\\nMore\\nI can't make any real suggestions on ...</td>\n",
              "      <td>0</td>\n",
              "      <td>0</td>\n",
              "      <td>0</td>\n",
              "      <td>0</td>\n",
              "      <td>0</td>\n",
              "      <td>0</td>\n",
              "    </tr>\n",
              "    <tr>\n",
              "      <th>4</th>\n",
              "      <td>0001d958c54c6e35</td>\n",
              "      <td>You, sir, are my hero. Any chance you remember...</td>\n",
              "      <td>0</td>\n",
              "      <td>0</td>\n",
              "      <td>0</td>\n",
              "      <td>0</td>\n",
              "      <td>0</td>\n",
              "      <td>0</td>\n",
              "    </tr>\n",
              "    <tr>\n",
              "      <th>5</th>\n",
              "      <td>00025465d4725e87</td>\n",
              "      <td>\"\\n\\nCongratulations from me as well, use the ...</td>\n",
              "      <td>0</td>\n",
              "      <td>0</td>\n",
              "      <td>0</td>\n",
              "      <td>0</td>\n",
              "      <td>0</td>\n",
              "      <td>0</td>\n",
              "    </tr>\n",
              "    <tr>\n",
              "      <th>6</th>\n",
              "      <td>0002bcb3da6cb337</td>\n",
              "      <td>COCKSUCKER BEFORE YOU PISS AROUND ON MY WORK</td>\n",
              "      <td>1</td>\n",
              "      <td>1</td>\n",
              "      <td>1</td>\n",
              "      <td>0</td>\n",
              "      <td>1</td>\n",
              "      <td>0</td>\n",
              "    </tr>\n",
              "    <tr>\n",
              "      <th>7</th>\n",
              "      <td>00031b1e95af7921</td>\n",
              "      <td>Your vandalism to the Matt Shirvington article...</td>\n",
              "      <td>0</td>\n",
              "      <td>0</td>\n",
              "      <td>0</td>\n",
              "      <td>0</td>\n",
              "      <td>0</td>\n",
              "      <td>0</td>\n",
              "    </tr>\n",
              "    <tr>\n",
              "      <th>8</th>\n",
              "      <td>00037261f536c51d</td>\n",
              "      <td>Sorry if the word 'nonsense' was offensive to ...</td>\n",
              "      <td>0</td>\n",
              "      <td>0</td>\n",
              "      <td>0</td>\n",
              "      <td>0</td>\n",
              "      <td>0</td>\n",
              "      <td>0</td>\n",
              "    </tr>\n",
              "    <tr>\n",
              "      <th>9</th>\n",
              "      <td>00040093b2687caa</td>\n",
              "      <td>alignment on this subject and which are contra...</td>\n",
              "      <td>0</td>\n",
              "      <td>0</td>\n",
              "      <td>0</td>\n",
              "      <td>0</td>\n",
              "      <td>0</td>\n",
              "      <td>0</td>\n",
              "    </tr>\n",
              "  </tbody>\n",
              "</table>\n",
              "</div>"
            ],
            "text/plain": [
              "                 id  ... identity_hate\n",
              "0  0000997932d777bf  ...             0\n",
              "1  000103f0d9cfb60f  ...             0\n",
              "2  000113f07ec002fd  ...             0\n",
              "3  0001b41b1c6bb37e  ...             0\n",
              "4  0001d958c54c6e35  ...             0\n",
              "5  00025465d4725e87  ...             0\n",
              "6  0002bcb3da6cb337  ...             0\n",
              "7  00031b1e95af7921  ...             0\n",
              "8  00037261f536c51d  ...             0\n",
              "9  00040093b2687caa  ...             0\n",
              "\n",
              "[10 rows x 8 columns]"
            ]
          },
          "metadata": {
            "tags": []
          },
          "execution_count": 3
        }
      ]
    },
    {
      "cell_type": "code",
      "metadata": {
        "id": "ZlapaZNmN2Nj",
        "colab_type": "code",
        "outputId": "8a7952cb-6090-4116-8792-c74bf51b34b2",
        "colab": {
          "base_uri": "https://localhost:8080/",
          "height": 204
        }
      },
      "source": [
        "df_test.head()"
      ],
      "execution_count": 0,
      "outputs": [
        {
          "output_type": "execute_result",
          "data": {
            "text/html": [
              "<div>\n",
              "<style scoped>\n",
              "    .dataframe tbody tr th:only-of-type {\n",
              "        vertical-align: middle;\n",
              "    }\n",
              "\n",
              "    .dataframe tbody tr th {\n",
              "        vertical-align: top;\n",
              "    }\n",
              "\n",
              "    .dataframe thead th {\n",
              "        text-align: right;\n",
              "    }\n",
              "</style>\n",
              "<table border=\"1\" class=\"dataframe\">\n",
              "  <thead>\n",
              "    <tr style=\"text-align: right;\">\n",
              "      <th></th>\n",
              "      <th>id</th>\n",
              "      <th>comment_text</th>\n",
              "    </tr>\n",
              "  </thead>\n",
              "  <tbody>\n",
              "    <tr>\n",
              "      <th>0</th>\n",
              "      <td>00001cee341fdb12</td>\n",
              "      <td>Yo bitch Ja Rule is more succesful then you'll...</td>\n",
              "    </tr>\n",
              "    <tr>\n",
              "      <th>1</th>\n",
              "      <td>0000247867823ef7</td>\n",
              "      <td>== From RfC == \\n\\n The title is fine as it is...</td>\n",
              "    </tr>\n",
              "    <tr>\n",
              "      <th>2</th>\n",
              "      <td>00013b17ad220c46</td>\n",
              "      <td>\" \\n\\n == Sources == \\n\\n * Zawe Ashton on Lap...</td>\n",
              "    </tr>\n",
              "    <tr>\n",
              "      <th>3</th>\n",
              "      <td>00017563c3f7919a</td>\n",
              "      <td>:If you have a look back at the source, the in...</td>\n",
              "    </tr>\n",
              "    <tr>\n",
              "      <th>4</th>\n",
              "      <td>00017695ad8997eb</td>\n",
              "      <td>I don't anonymously edit articles at all.</td>\n",
              "    </tr>\n",
              "  </tbody>\n",
              "</table>\n",
              "</div>"
            ],
            "text/plain": [
              "                 id                                       comment_text\n",
              "0  00001cee341fdb12  Yo bitch Ja Rule is more succesful then you'll...\n",
              "1  0000247867823ef7  == From RfC == \\n\\n The title is fine as it is...\n",
              "2  00013b17ad220c46  \" \\n\\n == Sources == \\n\\n * Zawe Ashton on Lap...\n",
              "3  00017563c3f7919a  :If you have a look back at the source, the in...\n",
              "4  00017695ad8997eb          I don't anonymously edit articles at all."
            ]
          },
          "metadata": {
            "tags": []
          },
          "execution_count": 4
        }
      ]
    },
    {
      "cell_type": "code",
      "metadata": {
        "id": "eDKXZxQqNSNX",
        "colab_type": "code",
        "outputId": "f0f3e97b-df34-4caf-84b2-59b48e7c92c1",
        "colab": {
          "base_uri": "https://localhost:8080/",
          "height": 272
        }
      },
      "source": [
        "df_train.info()"
      ],
      "execution_count": 0,
      "outputs": [
        {
          "output_type": "stream",
          "text": [
            "<class 'pandas.core.frame.DataFrame'>\n",
            "RangeIndex: 159571 entries, 0 to 159570\n",
            "Data columns (total 8 columns):\n",
            " #   Column         Non-Null Count   Dtype \n",
            "---  ------         --------------   ----- \n",
            " 0   id             159571 non-null  object\n",
            " 1   comment_text   159571 non-null  object\n",
            " 2   toxic          159571 non-null  int64 \n",
            " 3   severe_toxic   159571 non-null  int64 \n",
            " 4   obscene        159571 non-null  int64 \n",
            " 5   threat         159571 non-null  int64 \n",
            " 6   insult         159571 non-null  int64 \n",
            " 7   identity_hate  159571 non-null  int64 \n",
            "dtypes: int64(6), object(2)\n",
            "memory usage: 9.7+ MB\n"
          ],
          "name": "stdout"
        }
      ]
    },
    {
      "cell_type": "code",
      "metadata": {
        "id": "-e9MjXhs0xOe",
        "colab_type": "code",
        "outputId": "db713a7e-7805-46bf-ab6f-047882cfb6a6",
        "colab": {
          "base_uri": "https://localhost:8080/",
          "height": 297
        }
      },
      "source": [
        "df_train.describe()"
      ],
      "execution_count": 0,
      "outputs": [
        {
          "output_type": "execute_result",
          "data": {
            "text/html": [
              "<div>\n",
              "<style scoped>\n",
              "    .dataframe tbody tr th:only-of-type {\n",
              "        vertical-align: middle;\n",
              "    }\n",
              "\n",
              "    .dataframe tbody tr th {\n",
              "        vertical-align: top;\n",
              "    }\n",
              "\n",
              "    .dataframe thead th {\n",
              "        text-align: right;\n",
              "    }\n",
              "</style>\n",
              "<table border=\"1\" class=\"dataframe\">\n",
              "  <thead>\n",
              "    <tr style=\"text-align: right;\">\n",
              "      <th></th>\n",
              "      <th>toxic</th>\n",
              "      <th>severe_toxic</th>\n",
              "      <th>obscene</th>\n",
              "      <th>threat</th>\n",
              "      <th>insult</th>\n",
              "      <th>identity_hate</th>\n",
              "    </tr>\n",
              "  </thead>\n",
              "  <tbody>\n",
              "    <tr>\n",
              "      <th>count</th>\n",
              "      <td>159571.000000</td>\n",
              "      <td>159571.000000</td>\n",
              "      <td>159571.000000</td>\n",
              "      <td>159571.000000</td>\n",
              "      <td>159571.000000</td>\n",
              "      <td>159571.000000</td>\n",
              "    </tr>\n",
              "    <tr>\n",
              "      <th>mean</th>\n",
              "      <td>0.095844</td>\n",
              "      <td>0.009996</td>\n",
              "      <td>0.052948</td>\n",
              "      <td>0.002996</td>\n",
              "      <td>0.049364</td>\n",
              "      <td>0.008805</td>\n",
              "    </tr>\n",
              "    <tr>\n",
              "      <th>std</th>\n",
              "      <td>0.294379</td>\n",
              "      <td>0.099477</td>\n",
              "      <td>0.223931</td>\n",
              "      <td>0.054650</td>\n",
              "      <td>0.216627</td>\n",
              "      <td>0.093420</td>\n",
              "    </tr>\n",
              "    <tr>\n",
              "      <th>min</th>\n",
              "      <td>0.000000</td>\n",
              "      <td>0.000000</td>\n",
              "      <td>0.000000</td>\n",
              "      <td>0.000000</td>\n",
              "      <td>0.000000</td>\n",
              "      <td>0.000000</td>\n",
              "    </tr>\n",
              "    <tr>\n",
              "      <th>25%</th>\n",
              "      <td>0.000000</td>\n",
              "      <td>0.000000</td>\n",
              "      <td>0.000000</td>\n",
              "      <td>0.000000</td>\n",
              "      <td>0.000000</td>\n",
              "      <td>0.000000</td>\n",
              "    </tr>\n",
              "    <tr>\n",
              "      <th>50%</th>\n",
              "      <td>0.000000</td>\n",
              "      <td>0.000000</td>\n",
              "      <td>0.000000</td>\n",
              "      <td>0.000000</td>\n",
              "      <td>0.000000</td>\n",
              "      <td>0.000000</td>\n",
              "    </tr>\n",
              "    <tr>\n",
              "      <th>75%</th>\n",
              "      <td>0.000000</td>\n",
              "      <td>0.000000</td>\n",
              "      <td>0.000000</td>\n",
              "      <td>0.000000</td>\n",
              "      <td>0.000000</td>\n",
              "      <td>0.000000</td>\n",
              "    </tr>\n",
              "    <tr>\n",
              "      <th>max</th>\n",
              "      <td>1.000000</td>\n",
              "      <td>1.000000</td>\n",
              "      <td>1.000000</td>\n",
              "      <td>1.000000</td>\n",
              "      <td>1.000000</td>\n",
              "      <td>1.000000</td>\n",
              "    </tr>\n",
              "  </tbody>\n",
              "</table>\n",
              "</div>"
            ],
            "text/plain": [
              "               toxic   severe_toxic  ...         insult  identity_hate\n",
              "count  159571.000000  159571.000000  ...  159571.000000  159571.000000\n",
              "mean        0.095844       0.009996  ...       0.049364       0.008805\n",
              "std         0.294379       0.099477  ...       0.216627       0.093420\n",
              "min         0.000000       0.000000  ...       0.000000       0.000000\n",
              "25%         0.000000       0.000000  ...       0.000000       0.000000\n",
              "50%         0.000000       0.000000  ...       0.000000       0.000000\n",
              "75%         0.000000       0.000000  ...       0.000000       0.000000\n",
              "max         1.000000       1.000000  ...       1.000000       1.000000\n",
              "\n",
              "[8 rows x 6 columns]"
            ]
          },
          "metadata": {
            "tags": []
          },
          "execution_count": 6
        }
      ]
    },
    {
      "cell_type": "code",
      "metadata": {
        "id": "6OiI1Pbm26Vu",
        "colab_type": "code",
        "outputId": "6b4a877b-0c3d-4d81-ad92-6b89f9f3dfb6",
        "colab": {
          "base_uri": "https://localhost:8080/",
          "height": 34
        }
      },
      "source": [
        "len(df_train) , len(df_test)"
      ],
      "execution_count": 0,
      "outputs": [
        {
          "output_type": "execute_result",
          "data": {
            "text/plain": [
              "(159571, 153164)"
            ]
          },
          "metadata": {
            "tags": []
          },
          "execution_count": 7
        }
      ]
    },
    {
      "cell_type": "code",
      "metadata": {
        "id": "xXZcV6E21KWa",
        "colab_type": "code",
        "outputId": "5bc33ecc-d9f9-4500-baa5-b14f8a9d90b5",
        "colab": {
          "base_uri": "https://localhost:8080/",
          "height": 68
        }
      },
      "source": [
        "df_train.columns , df_test.columns"
      ],
      "execution_count": 0,
      "outputs": [
        {
          "output_type": "execute_result",
          "data": {
            "text/plain": [
              "(Index(['id', 'comment_text', 'toxic', 'severe_toxic', 'obscene', 'threat',\n",
              "        'insult', 'identity_hate'],\n",
              "       dtype='object'), Index(['id', 'comment_text'], dtype='object'))"
            ]
          },
          "metadata": {
            "tags": []
          },
          "execution_count": 8
        }
      ]
    },
    {
      "cell_type": "code",
      "metadata": {
        "id": "J7Kxcfon02LH",
        "colab_type": "code",
        "outputId": "d67fd6e8-7d7d-4a9a-e4cc-b08a175cba7c",
        "colab": {
          "base_uri": "https://localhost:8080/",
          "height": 34
        }
      },
      "source": [
        "# No of comments that are not described in any of the categories\n",
        "\n",
        "# for train\n",
        "\n",
        "no_of_comments = df_train[(df_train['toxic']!=1) & (df_train['severe_toxic']!=1) & (df_train['obscene']!=1) & (df_train['threat']!=1) & (df_train['insult']!=1) & (df_train['identity_hate']!=1)]\n",
        "print(f'Percentage of such comments in train file : {(len(no_of_comments)/ len(df_train))*100}%')\n"
      ],
      "execution_count": 0,
      "outputs": [
        {
          "output_type": "stream",
          "text": [
            "Percentage of such comments in train file : 89.83211235124176%\n"
          ],
          "name": "stdout"
        }
      ]
    },
    {
      "cell_type": "code",
      "metadata": {
        "id": "bQzzKxEi2l_7",
        "colab_type": "code",
        "colab": {}
      },
      "source": [
        "cols = ['toxic', 'severe_toxic', 'obscene', 'threat','insult', 'identity_hate']"
      ],
      "execution_count": 0,
      "outputs": []
    },
    {
      "cell_type": "markdown",
      "metadata": {
        "id": "tigFf6KDCzNj",
        "colab_type": "text"
      },
      "source": [
        "## 3) Checking for relation between target features"
      ]
    },
    {
      "cell_type": "markdown",
      "metadata": {
        "id": "vtHDS1TAKW6_",
        "colab_type": "text"
      },
      "source": [
        "For seaborn : https://pythonbasics.org/seaborn-heatmap/"
      ]
    },
    {
      "cell_type": "code",
      "metadata": {
        "id": "2fV47PGP5Kdp",
        "colab_type": "code",
        "outputId": "0ab871b7-d8ee-4805-f113-cede7e4fc746",
        "colab": {
          "base_uri": "https://localhost:8080/",
          "height": 432
        }
      },
      "source": [
        "import seaborn as sns\n",
        "color = plt.cm.plasma\n",
        "plt.figure(figsize=(7,7))\n",
        "sns.heatmap(df_train[cols].corr(),annot=True,cmap=color,linewidths=2,linecolor='white',square=True)"
      ],
      "execution_count": 0,
      "outputs": [
        {
          "output_type": "execute_result",
          "data": {
            "text/plain": [
              "<matplotlib.axes._subplots.AxesSubplot at 0x7fbe9c24bf98>"
            ]
          },
          "metadata": {
            "tags": []
          },
          "execution_count": 11
        },
        {
          "output_type": "display_data",
          "data": {
            "image/png": "[encoded data removed]",
            "text/plain": [
              "<Figure size 504x504 with 2 Axes>"
            ]
          },
          "metadata": {
            "tags": [],
            "needs_background": "light"
          }
        }
      ]
    },
    {
      "cell_type": "markdown",
      "metadata": {
        "id": "UDORsBWc6z4x",
        "colab_type": "text"
      },
      "source": [
        "## 4) Comments cleaning\n",
        "\n",
        "\n",
        "\n",
        "\n",
        "- First of all, make convert all text to its lowercase.\n",
        "- In this part, it is necessary to check whether any row of comments has null values, if it has then fill it.\n",
        "- If a comment contains words like i'm or what's, then change it to its full form.\n",
        "- If a comment does not contain any null values but contains only whitespace/s then remove those white spaces with a single white space.\n",
        "- It can happen that a comment/word may not have any letters, replace the comment/word with a single space.\n",
        "- By mistake, if there are some leading and trailing whitespaces present, then remove them also."
      ]
    },
    {
      "cell_type": "markdown",
      "metadata": {
        "id": "WK9Ws3m_NOjN",
        "colab_type": "text"
      },
      "source": [
        "#### For train file"
      ]
    },
    {
      "cell_type": "code",
      "metadata": {
        "id": "ftKuoFh6Hf5i",
        "colab_type": "code",
        "outputId": "9bb35635-0167-4882-8c87-fafcaac1b9d3",
        "colab": {
          "base_uri": "https://localhost:8080/",
          "height": 34
        }
      },
      "source": [
        "# checking for null values\n",
        "df_train['comment_text'].isnull().sum()"
      ],
      "execution_count": 0,
      "outputs": [
        {
          "output_type": "execute_result",
          "data": {
            "text/plain": [
              "0"
            ]
          },
          "metadata": {
            "tags": []
          },
          "execution_count": 12
        }
      ]
    },
    {
      "cell_type": "markdown",
      "metadata": {
        "id": "Cd-69r5PF7_v",
        "colab_type": "text"
      },
      "source": [
        "For short verb form that are commonly used : https://www.learnenglish.de/grammar/shortforms.html\n",
        "\n",
        "For regular expression : \n",
        "- https://www.w3schools.com/python/python_regex.asp\n",
        "- https://note.nkmk.me/en/python-str-replace-translate-re-sub/\n",
        "\n",
        "\n"
      ]
    },
    {
      "cell_type": "code",
      "metadata": {
        "id": "yMb8JXXjEaWy",
        "colab_type": "code",
        "colab": {}
      },
      "source": [
        "def clean_text(text):\n",
        "  text = text.lower()\n",
        "  text = re.sub(r\"can't\",\"cannot\",text)\n",
        "  text = re.sub(r\"shan't\",\"shall not\",text)\n",
        "  text = re.sub(r\"won't\",\"will not\",text)\n",
        "  text = re.sub(r\"n't\",\" not\",text) # see the space before not. \n",
        "  text = re.sub(r\"i'm\",\"i am\",text)\n",
        "  text = re.sub(r\"what's\",\"what is\",text)\n",
        "  text = re.sub(r\"let's\",\"let us\",text)\n",
        "  text = re.sub(r\"'re\",\" are\",text)\n",
        "  text = re.sub(r\"'s\",\" \",text)  # space because we dont know the tense , it can be is/has anything.\n",
        "  text = re.sub(r\"'ve\",\" have\",text)\n",
        "  text = re.sub(r\"\\'ll\", \" will \", text)\n",
        "  text = re.sub(r\"\\'scuse\", \" excuse \", text)\n",
        "  text = re.sub('\\W', ' ', text)  # If the comment/word does not contain any alphabets\n",
        "  text = re.sub('\\s+', ' ', text) # If there are more than one whitespace simultenously, then replace them by only 1 whitespace\n",
        "  text = text.strip(' ') # Removing leading and trailing white spaces\n",
        "  return text\n"
      ],
      "execution_count": 0,
      "outputs": []
    },
    {
      "cell_type": "code",
      "metadata": {
        "id": "IOCVrEI59Atn",
        "colab_type": "code",
        "colab": {}
      },
      "source": [
        "df_train['comment_text'] = df_train['comment_text'].apply(lambda text : clean_text(text))"
      ],
      "execution_count": 0,
      "outputs": []
    },
    {
      "cell_type": "code",
      "metadata": {
        "id": "qZqgB0SKIpm6",
        "colab_type": "code",
        "outputId": "74ae734c-1150-4cc7-cab2-a273e9de9fb7",
        "colab": {
          "base_uri": "https://localhost:8080/",
          "height": 204
        }
      },
      "source": [
        "df_train['comment_text'][:10]"
      ],
      "execution_count": 0,
      "outputs": [
        {
          "output_type": "execute_result",
          "data": {
            "text/plain": [
              "0    explanation why the edits made under my userna...\n",
              "1    d aww he matches this background colour i am s...\n",
              "2    hey man i am really not trying to edit war it ...\n",
              "3    more i cannot make any real suggestions on imp...\n",
              "4    you sir are my hero any chance you remember wh...\n",
              "5    congratulations from me as well use the tools ...\n",
              "6         cocksucker before you piss around on my work\n",
              "7    your vandalism to the matt shirvington article...\n",
              "8    sorry if the word nonsense was offensive to yo...\n",
              "9    alignment on this subject and which are contra...\n",
              "Name: comment_text, dtype: object"
            ]
          },
          "metadata": {
            "tags": []
          },
          "execution_count": 15
        }
      ]
    },
    {
      "cell_type": "markdown",
      "metadata": {
        "id": "Fm2q8t0qNRl1",
        "colab_type": "text"
      },
      "source": [
        "#### For test file"
      ]
    },
    {
      "cell_type": "code",
      "metadata": {
        "id": "eobAi0SzMr_T",
        "colab_type": "code",
        "outputId": "992a9df9-a529-4ef2-d852-dd671fc22a68",
        "colab": {
          "base_uri": "https://localhost:8080/",
          "height": 34
        }
      },
      "source": [
        "# checking for null values\n",
        "df_test['comment_text'].isnull().sum()"
      ],
      "execution_count": 0,
      "outputs": [
        {
          "output_type": "execute_result",
          "data": {
            "text/plain": [
              "0"
            ]
          },
          "metadata": {
            "tags": []
          },
          "execution_count": 16
        }
      ]
    },
    {
      "cell_type": "code",
      "metadata": {
        "id": "5_j4hd7XNYW0",
        "colab_type": "code",
        "colab": {}
      },
      "source": [
        "df_test['comment_text'] = df_test['comment_text'].apply(lambda text : clean_text(text))"
      ],
      "execution_count": 0,
      "outputs": []
    },
    {
      "cell_type": "code",
      "metadata": {
        "id": "3pj5Qj-cNeYN",
        "colab_type": "code",
        "outputId": "6b7a4eb2-1113-4322-94b7-d9d46e57ecf9",
        "colab": {
          "base_uri": "https://localhost:8080/",
          "height": 204
        }
      },
      "source": [
        "df_test['comment_text'][:10]"
      ],
      "execution_count": 0,
      "outputs": [
        {
          "output_type": "execute_result",
          "data": {
            "text/plain": [
              "0    yo bitch ja rule is more succesful then you wi...\n",
              "1              from rfc the title is fine as it is imo\n",
              "2                       sources zawe ashton on lapland\n",
              "3    if you have a look back at the source the info...\n",
              "4            i do not anonymously edit articles at all\n",
              "5    thank you for understanding i think very highl...\n",
              "6    please do not add nonsense to wikipedia such e...\n",
              "7                       dear god this site is horrible\n",
              "8    only a fool can believe in such numbers the co...\n",
              "9    double redirects when fixing double redirects ...\n",
              "Name: comment_text, dtype: object"
            ]
          },
          "metadata": {
            "tags": []
          },
          "execution_count": 18
        }
      ]
    },
    {
      "cell_type": "markdown",
      "metadata": {
        "id": "1KeMMXVvMaTJ",
        "colab_type": "text"
      },
      "source": [
        "## 4) Converting into features and labels"
      ]
    },
    {
      "cell_type": "code",
      "metadata": {
        "id": "CdAs2cWMORDj",
        "colab_type": "code",
        "colab": {}
      },
      "source": [
        "X = df_train['comment_text']\n",
        "X_test = df_test['comment_text']"
      ],
      "execution_count": 0,
      "outputs": []
    },
    {
      "cell_type": "code",
      "metadata": {
        "id": "OiuD5VzePcNB",
        "colab_type": "code",
        "outputId": "8adcf5ad-efa3-4d01-d22d-b034b637626e",
        "colab": {
          "base_uri": "https://localhost:8080/",
          "height": 34
        }
      },
      "source": [
        "len(X), len(X_test)"
      ],
      "execution_count": 0,
      "outputs": [
        {
          "output_type": "execute_result",
          "data": {
            "text/plain": [
              "(159571, 153164)"
            ]
          },
          "metadata": {
            "tags": []
          },
          "execution_count": 20
        }
      ]
    },
    {
      "cell_type": "markdown",
      "metadata": {
        "id": "iQdRUt7aU76L",
        "colab_type": "text"
      },
      "source": [
        "For converting words to numbers : https://www.kaggle.com/adamschroeder/countvectorizer-tfidfvectorizer-predict-comments"
      ]
    },
    {
      "cell_type": "code",
      "metadata": {
        "id": "XPY3CymvPg5E",
        "colab_type": "code",
        "colab": {}
      },
      "source": [
        "from sklearn.feature_extraction.text import CountVectorizer\n",
        "from sklearn.feature_extraction.text import TfidfVectorizer"
      ],
      "execution_count": 0,
      "outputs": []
    },
    {
      "cell_type": "code",
      "metadata": {
        "id": "A8iRkdnhV7bb",
        "colab_type": "code",
        "outputId": "f4b667d6-edd4-41ff-ea68-9896653ffbe0",
        "colab": {
          "base_uri": "https://localhost:8080/",
          "height": 136
        }
      },
      "source": [
        "tfd = TfidfVectorizer(stop_words='english',max_features=5000)\n",
        "tfd"
      ],
      "execution_count": 0,
      "outputs": [
        {
          "output_type": "execute_result",
          "data": {
            "text/plain": [
              "TfidfVectorizer(analyzer='word', binary=False, decode_error='strict',\n",
              "                dtype=<class 'numpy.float64'>, encoding='utf-8',\n",
              "                input='content', lowercase=True, max_df=1.0, max_features=5000,\n",
              "                min_df=1, ngram_range=(1, 1), norm='l2', preprocessor=None,\n",
              "                smooth_idf=True, stop_words='english', strip_accents=None,\n",
              "                sublinear_tf=False, token_pattern='(?u)\\\\b\\\\w\\\\w+\\\\b',\n",
              "                tokenizer=None, use_idf=True, vocabulary=None)"
            ]
          },
          "metadata": {
            "tags": []
          },
          "execution_count": 22
        }
      ]
    },
    {
      "cell_type": "code",
      "metadata": {
        "id": "-YFn008gwxaW",
        "colab_type": "code",
        "outputId": "05a5ff05-b76a-4836-95cd-613cd3e80c13",
        "colab": {
          "base_uri": "https://localhost:8080/",
          "height": 51
        }
      },
      "source": [
        "# For train\n",
        "\n",
        "X_data = tfd.fit_transform(X)\n",
        "X_data"
      ],
      "execution_count": 0,
      "outputs": [
        {
          "output_type": "execute_result",
          "data": {
            "text/plain": [
              "<159571x5000 sparse matrix of type '<class 'numpy.float64'>'\n",
              "\twith 3177057 stored elements in Compressed Sparse Row format>"
            ]
          },
          "metadata": {
            "tags": []
          },
          "execution_count": 23
        }
      ]
    },
    {
      "cell_type": "code",
      "metadata": {
        "id": "Aa1zgZEiw9rE",
        "colab_type": "code",
        "outputId": "556068a4-8c8c-4f7f-c3de-1c2877765bba",
        "colab": {
          "base_uri": "https://localhost:8080/",
          "height": 51
        }
      },
      "source": [
        "# For test\n",
        "\n",
        "X_test_data = tfd.transform(X_test)\n",
        "X_test_data"
      ],
      "execution_count": 0,
      "outputs": [
        {
          "output_type": "execute_result",
          "data": {
            "text/plain": [
              "<153164x5000 sparse matrix of type '<class 'numpy.float64'>'\n",
              "\twith 2617681 stored elements in Compressed Sparse Row format>"
            ]
          },
          "metadata": {
            "tags": []
          },
          "execution_count": 24
        }
      ]
    },
    {
      "cell_type": "markdown",
      "metadata": {
        "id": "jLfnEgPxzaOL",
        "colab_type": "text"
      },
      "source": [
        "## 5) Building the model"
      ]
    },
    {
      "cell_type": "markdown",
      "metadata": {
        "id": "68B2l2WWzhiC",
        "colab_type": "text"
      },
      "source": [
        "Here, we will be building our model based on 2 approaches:\n",
        "\n",
        "- 1) **Binary Relevance** - This is probably the simplest which treats each label as a separate single classification problems. The key assumption here though, is that there are no correlation among the various labels.\n",
        "\n",
        "- 2) **Classifier Chains** - In this method, the first classifier is trained on the input X. Then the subsequent classifiers are trained on the input X and all previous classifiers' predictions in the chain. This method attempts to draw the signals from the correlation among preceding target variables."
      ]
    },
    {
      "cell_type": "markdown",
      "metadata": {
        "id": "h6rjHR57z-48",
        "colab_type": "text"
      },
      "source": [
        "Using binary relevance"
      ]
    },
    {
      "cell_type": "code",
      "metadata": {
        "id": "pDgqoApvxJkW",
        "colab_type": "code",
        "colab": {}
      },
      "source": [
        "from sklearn.linear_model import LogisticRegression\n",
        "from sklearn.metrics import accuracy_score\n",
        "\n",
        "lr = LogisticRegression(C=12,max_iter=500)\n",
        "\n",
        "submission_bin = pd.read_csv('drive/My Drive/Pytorch_DataSet/Toxic Comment Classification/sample_submission.csv')"
      ],
      "execution_count": 0,
      "outputs": []
    },
    {
      "cell_type": "markdown",
      "metadata": {
        "id": "ekfI9e-NQNR1",
        "colab_type": "text"
      },
      "source": [
        "There was a issue of max iteration because model was not able to converge so max_iter was increased to 5000 and C=12.\n",
        "\n",
        "https://stackoverflow.com/questions/52670012/convergencewarning-liblinear-failed-to-converge-increase-the-number-of-iterati"
      ]
    },
    {
      "cell_type": "code",
      "metadata": {
        "id": "a6lImFUA0uCu",
        "colab_type": "code",
        "outputId": "c79996fc-4a2b-4b43-8bdf-2e0cfce2d1a5",
        "colab": {
          "base_uri": "https://localhost:8080/",
          "height": 119
        }
      },
      "source": [
        "for label in cols:\n",
        "\n",
        "  y_train = df_train[label]\n",
        "  lr.fit(X_data,y_train)\n",
        "  y_pred = lr.predict(X_data)\n",
        "  print(f'Training accuracy for {label} is {accuracy_score(y_train, y_pred)}')\n",
        "\n",
        "  test_proba = lr.predict_proba(X_test_data)[:,1]\n",
        "  submission_bin[label] = test_proba\n",
        "  "
      ],
      "execution_count": 0,
      "outputs": [
        {
          "output_type": "stream",
          "text": [
            "Training accuracy for toxic is 0.9639784171309324\n",
            "Training accuracy for severe_toxic is 0.9920724943755445\n",
            "Training accuracy for obscene is 0.9832363023356374\n",
            "Training accuracy for threat is 0.9981199591404453\n",
            "Training accuracy for insult is 0.9755469352200588\n",
            "Training accuracy for identity_hate is 0.9939650688408295\n"
          ],
          "name": "stdout"
        }
      ]
    },
    {
      "cell_type": "code",
      "metadata": {
        "id": "gGUJN3aK0xze",
        "colab_type": "code",
        "outputId": "8276a67a-4148-463e-9f5b-10bdf247901d",
        "colab": {
          "base_uri": "https://localhost:8080/",
          "height": 204
        }
      },
      "source": [
        "submission_bin.head()"
      ],
      "execution_count": 0,
      "outputs": [
        {
          "output_type": "execute_result",
          "data": {
            "text/html": [
              "<div>\n",
              "<style scoped>\n",
              "    .dataframe tbody tr th:only-of-type {\n",
              "        vertical-align: middle;\n",
              "    }\n",
              "\n",
              "    .dataframe tbody tr th {\n",
              "        vertical-align: top;\n",
              "    }\n",
              "\n",
              "    .dataframe thead th {\n",
              "        text-align: right;\n",
              "    }\n",
              "</style>\n",
              "<table border=\"1\" class=\"dataframe\">\n",
              "  <thead>\n",
              "    <tr style=\"text-align: right;\">\n",
              "      <th></th>\n",
              "      <th>id</th>\n",
              "      <th>toxic</th>\n",
              "      <th>severe_toxic</th>\n",
              "      <th>obscene</th>\n",
              "      <th>threat</th>\n",
              "      <th>insult</th>\n",
              "      <th>identity_hate</th>\n",
              "    </tr>\n",
              "  </thead>\n",
              "  <tbody>\n",
              "    <tr>\n",
              "      <th>0</th>\n",
              "      <td>00001cee341fdb12</td>\n",
              "      <td>0.999957</td>\n",
              "      <td>0.462953</td>\n",
              "      <td>0.999965</td>\n",
              "      <td>0.050632</td>\n",
              "      <td>0.971106</td>\n",
              "      <td>0.433201</td>\n",
              "    </tr>\n",
              "    <tr>\n",
              "      <th>1</th>\n",
              "      <td>0000247867823ef7</td>\n",
              "      <td>0.002407</td>\n",
              "      <td>0.000432</td>\n",
              "      <td>0.000399</td>\n",
              "      <td>0.000317</td>\n",
              "      <td>0.003270</td>\n",
              "      <td>0.000396</td>\n",
              "    </tr>\n",
              "    <tr>\n",
              "      <th>2</th>\n",
              "      <td>00013b17ad220c46</td>\n",
              "      <td>0.011233</td>\n",
              "      <td>0.000119</td>\n",
              "      <td>0.003175</td>\n",
              "      <td>0.000035</td>\n",
              "      <td>0.007396</td>\n",
              "      <td>0.001263</td>\n",
              "    </tr>\n",
              "    <tr>\n",
              "      <th>3</th>\n",
              "      <td>00017563c3f7919a</td>\n",
              "      <td>0.001352</td>\n",
              "      <td>0.002095</td>\n",
              "      <td>0.000949</td>\n",
              "      <td>0.000116</td>\n",
              "      <td>0.000870</td>\n",
              "      <td>0.000033</td>\n",
              "    </tr>\n",
              "    <tr>\n",
              "      <th>4</th>\n",
              "      <td>00017695ad8997eb</td>\n",
              "      <td>0.019109</td>\n",
              "      <td>0.000848</td>\n",
              "      <td>0.001247</td>\n",
              "      <td>0.000601</td>\n",
              "      <td>0.003235</td>\n",
              "      <td>0.000572</td>\n",
              "    </tr>\n",
              "  </tbody>\n",
              "</table>\n",
              "</div>"
            ],
            "text/plain": [
              "                 id     toxic  severe_toxic  ...    threat    insult  identity_hate\n",
              "0  00001cee341fdb12  0.999957      0.462953  ...  0.050632  0.971106       0.433201\n",
              "1  0000247867823ef7  0.002407      0.000432  ...  0.000317  0.003270       0.000396\n",
              "2  00013b17ad220c46  0.011233      0.000119  ...  0.000035  0.007396       0.001263\n",
              "3  00017563c3f7919a  0.001352      0.002095  ...  0.000116  0.000870       0.000033\n",
              "4  00017695ad8997eb  0.019109      0.000848  ...  0.000601  0.003235       0.000572\n",
              "\n",
              "[5 rows x 7 columns]"
            ]
          },
          "metadata": {
            "tags": []
          },
          "execution_count": 29
        }
      ]
    },
    {
      "cell_type": "code",
      "metadata": {
        "id": "H9U2SeHBQhme",
        "colab_type": "code",
        "colab": {}
      },
      "source": [
        "submission_bin.to_csv('submission_binary.csv',index=False)"
      ],
      "execution_count": 0,
      "outputs": []
    },
    {
      "cell_type": "markdown",
      "metadata": {
        "id": "YqaYmZpQTbDB",
        "colab_type": "text"
      },
      "source": [
        "This code has an accuracy of 96% on kaggle"
      ]
    },
    {
      "cell_type": "markdown",
      "metadata": {
        "id": "4aY1tmGWWsj_",
        "colab_type": "text"
      },
      "source": [
        "Using classifier chains"
      ]
    },
    {
      "cell_type": "code",
      "metadata": {
        "id": "2B1OFOjBQovm",
        "colab_type": "code",
        "colab": {}
      },
      "source": [
        "submission_chains = pd.read_csv('drive/My Drive/Pytorch_DataSet/Toxic Comment Classification/sample_submission.csv')\n",
        "\n",
        "# create a function to add features\n",
        "def add_feature(X, feature_to_add):\n",
        "    '''\n",
        "    Returns sparse feature matrix with added feature.\n",
        "    feature_to_add can also be a list of features.\n",
        "    '''\n",
        "    from scipy.sparse import csr_matrix, hstack\n",
        "    return hstack([X, csr_matrix(feature_to_add).T], 'csr')"
      ],
      "execution_count": 0,
      "outputs": []
    },
    {
      "cell_type": "code",
      "metadata": {
        "id": "RfrRqhMwVPNz",
        "colab_type": "code",
        "outputId": "6d20f7ff-d9ee-4c40-dfad-45d2851b8da2",
        "colab": {
          "base_uri": "https://localhost:8080/",
          "height": 323
        }
      },
      "source": [
        "for label in cols:\n",
        "\n",
        "    y_train = df_train[label]\n",
        "    lr.fit(X_data,y_train)\n",
        "    y_pred_X = lr.predict(X_data)\n",
        "\n",
        "    print('Training Accuracy is {}'.format(accuracy_score(y_train,y_pred_X)))\n",
        "\n",
        "    test_y = lr.predict(X_test_data)\n",
        "    test_y_prob = lr.predict_proba(X_test_data)[:,1]\n",
        "    submission_chains[label] = test_y_prob\n",
        "\n",
        "    # chain current label to X_dtm\n",
        "    X_data = add_feature(X_data, y_train)\n",
        "    print('Shape of X_data is now {}'.format(X_data.shape))\n",
        "\n",
        "    # chain current label predictions to test_X_dtm\n",
        "    X_test_data = add_feature(X_test_data, test_y)\n",
        "    print('Shape of X_test_data is now {}'.format(X_test_data.shape))"
      ],
      "execution_count": 0,
      "outputs": [
        {
          "output_type": "stream",
          "text": [
            "Training Accuracy is 0.9639784171309324\n",
            "Shape of X_data is now (159571, 5001)\n",
            "Shape of X_test_data is now (153164, 5001)\n",
            "Training Accuracy is 0.9926365066334109\n",
            "Shape of X_data is now (159571, 5002)\n",
            "Shape of X_test_data is now (153164, 5002)\n",
            "Training Accuracy is 0.985285546872552\n",
            "Shape of X_data is now (159571, 5003)\n",
            "Shape of X_test_data is now (153164, 5003)\n",
            "Training Accuracy is 0.9984395660865696\n",
            "Shape of X_data is now (159571, 5004)\n",
            "Shape of X_test_data is now (153164, 5004)\n",
            "Training Accuracy is 0.9826785568806362\n",
            "Shape of X_data is now (159571, 5005)\n",
            "Shape of X_test_data is now (153164, 5005)\n",
            "Training Accuracy is 0.9956132379943724\n",
            "Shape of X_data is now (159571, 5006)\n",
            "Shape of X_test_data is now (153164, 5006)\n"
          ],
          "name": "stdout"
        }
      ]
    },
    {
      "cell_type": "code",
      "metadata": {
        "id": "XSfI7NN_WGEW",
        "colab_type": "code",
        "outputId": "3dbc7d25-b2c9-4170-839d-ee89f735b98b",
        "colab": {
          "base_uri": "https://localhost:8080/",
          "height": 204
        }
      },
      "source": [
        "submission_chains.head()"
      ],
      "execution_count": 0,
      "outputs": [
        {
          "output_type": "execute_result",
          "data": {
            "text/html": [
              "<div>\n",
              "<style scoped>\n",
              "    .dataframe tbody tr th:only-of-type {\n",
              "        vertical-align: middle;\n",
              "    }\n",
              "\n",
              "    .dataframe tbody tr th {\n",
              "        vertical-align: top;\n",
              "    }\n",
              "\n",
              "    .dataframe thead th {\n",
              "        text-align: right;\n",
              "    }\n",
              "</style>\n",
              "<table border=\"1\" class=\"dataframe\">\n",
              "  <thead>\n",
              "    <tr style=\"text-align: right;\">\n",
              "      <th></th>\n",
              "      <th>id</th>\n",
              "      <th>toxic</th>\n",
              "      <th>severe_toxic</th>\n",
              "      <th>obscene</th>\n",
              "      <th>threat</th>\n",
              "      <th>insult</th>\n",
              "      <th>identity_hate</th>\n",
              "    </tr>\n",
              "  </thead>\n",
              "  <tbody>\n",
              "    <tr>\n",
              "      <th>0</th>\n",
              "      <td>00001cee341fdb12</td>\n",
              "      <td>0.999957</td>\n",
              "      <td>4.345382e-01</td>\n",
              "      <td>0.999690</td>\n",
              "      <td>0.082658</td>\n",
              "      <td>0.859546</td>\n",
              "      <td>0.555013</td>\n",
              "    </tr>\n",
              "    <tr>\n",
              "      <th>1</th>\n",
              "      <td>0000247867823ef7</td>\n",
              "      <td>0.002407</td>\n",
              "      <td>1.574797e-06</td>\n",
              "      <td>0.000227</td>\n",
              "      <td>0.000077</td>\n",
              "      <td>0.003211</td>\n",
              "      <td>0.000125</td>\n",
              "    </tr>\n",
              "    <tr>\n",
              "      <th>2</th>\n",
              "      <td>00013b17ad220c46</td>\n",
              "      <td>0.011233</td>\n",
              "      <td>5.960870e-07</td>\n",
              "      <td>0.000980</td>\n",
              "      <td>0.000013</td>\n",
              "      <td>0.002484</td>\n",
              "      <td>0.000558</td>\n",
              "    </tr>\n",
              "    <tr>\n",
              "      <th>3</th>\n",
              "      <td>00017563c3f7919a</td>\n",
              "      <td>0.001352</td>\n",
              "      <td>2.662714e-05</td>\n",
              "      <td>0.001089</td>\n",
              "      <td>0.000063</td>\n",
              "      <td>0.000420</td>\n",
              "      <td>0.000006</td>\n",
              "    </tr>\n",
              "    <tr>\n",
              "      <th>4</th>\n",
              "      <td>00017695ad8997eb</td>\n",
              "      <td>0.019109</td>\n",
              "      <td>2.088838e-06</td>\n",
              "      <td>0.000319</td>\n",
              "      <td>0.000163</td>\n",
              "      <td>0.000835</td>\n",
              "      <td>0.000100</td>\n",
              "    </tr>\n",
              "  </tbody>\n",
              "</table>\n",
              "</div>"
            ],
            "text/plain": [
              "                 id     toxic  severe_toxic  ...    threat    insult  identity_hate\n",
              "0  00001cee341fdb12  0.999957  4.345382e-01  ...  0.082658  0.859546       0.555013\n",
              "1  0000247867823ef7  0.002407  1.574797e-06  ...  0.000077  0.003211       0.000125\n",
              "2  00013b17ad220c46  0.011233  5.960870e-07  ...  0.000013  0.002484       0.000558\n",
              "3  00017563c3f7919a  0.001352  2.662714e-05  ...  0.000063  0.000420       0.000006\n",
              "4  00017695ad8997eb  0.019109  2.088838e-06  ...  0.000163  0.000835       0.000100\n",
              "\n",
              "[5 rows x 7 columns]"
            ]
          },
          "metadata": {
            "tags": []
          },
          "execution_count": 33
        }
      ]
    },
    {
      "cell_type": "code",
      "metadata": {
        "id": "u6W0BfKTWbRD",
        "colab_type": "code",
        "colab": {}
      },
      "source": [
        "submission_chains.to_csv('submission_chains.csv',index=False)"
      ],
      "execution_count": 0,
      "outputs": []
    },
    {
      "cell_type": "code",
      "metadata": {
        "id": "SJy9rTKoWxz9",
        "colab_type": "code",
        "colab": {}
      },
      "source": [
        ""
      ],
      "execution_count": 0,
      "outputs": []
    }
  ]
}